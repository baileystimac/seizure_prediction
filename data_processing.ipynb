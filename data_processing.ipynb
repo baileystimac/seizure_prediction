{
 "cells": [
  {
   "cell_type": "markdown",
   "metadata": {},
   "source": [
    "# **Data Processing**"
   ]
  },
  {
   "cell_type": "markdown",
   "metadata": {},
   "source": [
    "This notebook documents the steps taken to process the Empatica E4 data from the format downloaded using SeerPy to the format which will be used to train the neural models."
   ]
  },
  {
   "cell_type": "markdown",
   "metadata": {},
   "source": [
    "# Patients"
   ]
  },
  {
   "cell_type": "markdown",
   "metadata": {},
   "source": [
    "The following cell contains the patients for which E4 data exists, as well as a list of all patients."
   ]
  },
  {
   "cell_type": "code",
   "execution_count": null,
   "metadata": {},
   "outputs": [],
   "source": [
    "patient_ids = [\n",
    "    'MSEL_00095',\n",
    "    'MSEL_00172',\n",
    "    'MSEL_00182',\n",
    "    'MSEL_00501',\n",
    "    'MSEL_00502',\n",
    "    'MSEL_00764',\n",
    "    'MSEL_01097',\n",
    "    'MSEL_01110-ICU',\n",
    "    'MSEL_01462',\n",
    "    'MSEL_01550',\n",
    "    'MSEL_01575',\n",
    "    'MSEL_01676',\n",
    "    'MSEL_01709',\n",
    "    'MSEL_01763',\n",
    "    'MSEL_01808',\n",
    "    'MSEL_01828',\n",
    "    'MSEL_01832',\n",
    "    'MSEL_01836',\n",
    "    'MSEL_01838',\n",
    "    'MSEL_01842',\n",
    "    'MSEL_01844',\n",
    "    'MSEL_01849',\n",
    "    'MSEL_01853',\n",
    "    'MSEL_01870']\n",
    "\n",
    "# all_patient_ids = [p[10:] for p in glob(\"data\\data\\*\")]"
   ]
  },
  {
   "cell_type": "markdown",
   "metadata": {},
   "source": [
    "# Handling Accelerometery Data"
   ]
  },
  {
   "cell_type": "markdown",
   "metadata": {},
   "source": [
    "Any given channel from a patient's data can be loaded easily."
   ]
  },
  {
   "cell_type": "code",
   "execution_count": null,
   "metadata": {},
   "outputs": [],
   "source": [
    "import json\n",
    "import os\n",
    "\n",
    "import pandas as pd\n",
    "import numpy as np\n",
    "import matplotlib.pyplot as plt\n",
    "\n",
    "from math import ceil\n",
    "from glob import glob\n",
    "from tqdm import tqdm\n",
    "from sklearn.preprocessing import MinMaxScaler\n",
    "\n",
    "%matplotlib inline"
   ]
  },
  {
   "cell_type": "code",
   "execution_count": null,
   "metadata": {},
   "outputs": [],
   "source": [
    "# labels = {k:0 for k in sorted(pd.concat([pd.read_csv(f) for f in glob(\"data\\data\\*\\*_labels.csv\")])[\"labels.note\"].unique())}\n",
    "# with open(\"labels.json\", \"w\") as f:\n",
    "#     json.dump(labels, f, indent=4)"
   ]
  },
  {
   "cell_type": "code",
   "execution_count": null,
   "metadata": {},
   "outputs": [],
   "source": [
    "from shutil import copy"
   ]
  },
  {
   "cell_type": "code",
   "execution_count": null,
   "metadata": {},
   "outputs": [],
   "source": [
    "## Make directoriees for accelerometry data if they don't exist\n",
    "# for patient_id in patient_ids:\n",
    "#     os.mkdir(f\"data\\data\\{patient_id}\\Empatica-ACC x\")\n",
    "#     os.mkdir(f\"data\\data\\{patient_id}\\Empatica-ACC y\")\n",
    "#     os.mkdir(f\"data\\data\\{patient_id}\\Empatica-ACC z\")\n",
    "\n",
    "## Copy acc data to directory\n",
    "# for patient_id in patient_ids:\n",
    "#     x = glob(f\"data\\data\\{patient_id}\\Empatica-ACC\\{patient_id}_Empatica-ACC_Acc x_segment_*.parquet\")\n",
    "#     y = glob(f\"data\\data\\{patient_id}\\Empatica-ACC\\{patient_id}_Empatica-ACC_Acc y_segment_*.parquet\")\n",
    "#     z = glob(f\"data\\data\\{patient_id}\\Empatica-ACC\\{patient_id}_Empatica-ACC_Acc z_segment_*.parquet\")\n",
    "#     for f in x:\n",
    "#         copy(f, f\"data\\\\data\\\\{patient_id}\\\\Empatica-ACC x\")\n",
    "#     for f in y:\n",
    "#         copy(f, f\"data\\\\data\\\\{patient_id}\\\\Empatica-ACC y\")\n",
    "#     for f in z:\n",
    "#         copy(f, f\"data\\\\data\\\\{patient_id}\\\\Empatica-ACC z\")"
   ]
  },
  {
   "cell_type": "markdown",
   "metadata": {},
   "source": [
    "# Writing Patient Data Files"
   ]
  },
  {
   "cell_type": "code",
   "execution_count": null,
   "metadata": {},
   "outputs": [],
   "source": [
    "# Channels which we are using for preictions\n",
    "channels = [\"ACC x\", \"ACC y\", \"ACC z\", \"BVP\", \"EDA\", \"TEMP\"]\n",
    "\n",
    "# For each patient\n",
    "for patient_id in tqdm(patient_ids):\n",
    "    # Get the start time of the patients recording\n",
    "    labels = pd.read_csv(f\"data\\data\\{patient_id}\\{patient_id}_labels.csv\")\n",
    "    start_time = labels[\"startTime\"][0]\n",
    "\n",
    "    # Create dataframe to store patients data\n",
    "    patient_data = pd.DataFrame()\n",
    "\n",
    "    ## Load all of the patient's data from each channel\n",
    "    for channel in channels:\n",
    "        # Load the data for current patient and channel\n",
    "        channel_data = pd.read_parquet(f\"data\\data\\{patient_id}\\Empatica-{channel}\")\n",
    "        \n",
    "        # Use time column as index for the channel data\n",
    "        channel_data = channel_data.set_index(\"time\")\n",
    "\n",
    "        # Add the channel data to the patients recording data\n",
    "        patient_data[channel] = channel_data[\"data\"]\n",
    "\n",
    "    # Fix index so that recording starts at t=0\n",
    "    patient_data.index = patient_data.index - start_time\n",
    "\n",
    "    # Add missing indexes and fill with NAs\n",
    "    patient_data = patient_data.reindex(np.arange(0, ceil(patient_data.index.max()), 7.8125))\n",
    "\n",
    "    # Save the patient's recording data to parquet\n",
    "    patient_data.to_parquet(f\"data\\{patient_id}_128Hz.parquet\")"
   ]
  },
  {
   "cell_type": "markdown",
   "metadata": {},
   "source": [
    "# Scaling Channel Data"
   ]
  },
  {
   "cell_type": "code",
   "execution_count": null,
   "metadata": {},
   "outputs": [],
   "source": [
    "## Calculate min and max values for each channel\n",
    "max_values = pd.DataFrame(columns = [\"ACC x\", \"ACC y\", \"ACC z\", \"BVP\", \"EDA\", \"TEMP\"])\n",
    "min_values = pd.DataFrame(columns = [\"ACC x\", \"ACC y\", \"ACC z\", \"BVP\", \"EDA\", \"TEMP\"])\n",
    "for patient_id in patient_ids:\n",
    "    data = pd.read_parquet(f\"data\\{patient_id}_128Hz.parquet\")\n",
    "    max_values.loc[patient_id, [\"ACC x\", \"ACC y\", \"ACC z\", \"BVP\", \"EDA\", \"TEMP\"]] = data.max()\n",
    "    min_values.loc[patient_id, [\"ACC x\", \"ACC y\", \"ACC z\", \"BVP\", \"EDA\", \"TEMP\"]] = data.min()\n",
    "\n",
    "min_value = min_values.min()\n",
    "max_value = max_values.max()\n",
    "\n",
    "# Scale each patients data\n",
    "for patient_id in tqdm(patient_ids):\n",
    "    data = pd.read_parquet(f\"data\\{patient_id}_128Hz.parquet\")\n",
    "    scaled = (data - min_value) / (max_value - min_value)\n",
    "    scaled.to_parquet(f\"data\\{patient_id}_128Hz_scaled.parquet\")"
   ]
  },
  {
   "cell_type": "markdown",
   "metadata": {},
   "source": [
    "# Writing Segments"
   ]
  },
  {
   "cell_type": "code",
   "execution_count": null,
   "metadata": {},
   "outputs": [],
   "source": [
    "from scipy.signal import decimate"
   ]
  },
  {
   "cell_type": "code",
   "execution_count": 271,
   "metadata": {},
   "outputs": [],
   "source": [
    "# Make directoriees for segment_data\n",
    "for patient_id in patient_ids:\n",
    "    os.makedirs(f\"data/segments/{patient_id}/preictal\")\n",
    "    os.makedirs(f\"data/segments/{patient_id}/interictal\")\n"
   ]
  },
  {
   "cell_type": "code",
   "execution_count": 272,
   "metadata": {},
   "outputs": [
    {
     "name": "stdout",
     "output_type": "stream",
     "text": [
      "Writing segments for patient: MSEL_00095\n",
      "Writing preictal segments\n",
      "Writing interictal segments\n",
      "Writing segments for patient: MSEL_00172\n",
      "Writing preictal segments\n",
      "Writing interictal segments\n",
      "Writing segments for patient: MSEL_00182\n",
      "Writing preictal segments\n",
      "Writing interictal segments\n",
      "Writing segments for patient: MSEL_00501\n",
      "Writing preictal segments\n",
      "Writing interictal segments\n",
      "Writing segments for patient: MSEL_00502\n",
      "Writing preictal segments\n",
      "Writing interictal segments\n",
      "Writing segments for patient: MSEL_00764\n",
      "Writing preictal segments\n",
      "Writing interictal segments\n",
      "Writing segments for patient: MSEL_01097\n",
      "Writing preictal segments\n",
      "Writing interictal segments\n",
      "Writing segments for patient: MSEL_01110-ICU\n",
      "Writing preictal segments\n",
      "Writing interictal segments\n",
      "Writing segments for patient: MSEL_01462\n",
      "Writing preictal segments\n",
      "Writing interictal segments\n",
      "Writing segments for patient: MSEL_01550\n",
      "Writing preictal segments\n",
      "Writing interictal segments\n",
      "Writing segments for patient: MSEL_01575\n",
      "Writing preictal segments\n",
      "Writing interictal segments\n",
      "Writing segments for patient: MSEL_01676\n",
      "Writing preictal segments\n",
      "Writing interictal segments\n",
      "Writing segments for patient: MSEL_01709\n",
      "Writing preictal segments\n",
      "Writing interictal segments\n",
      "Writing segments for patient: MSEL_01763\n",
      "Writing preictal segments\n",
      "Writing interictal segments\n",
      "Writing segments for patient: MSEL_01808\n",
      "Writing preictal segments\n",
      "Writing interictal segments\n",
      "Writing segments for patient: MSEL_01828\n",
      "Writing preictal segments\n",
      "Writing interictal segments\n",
      "Writing segments for patient: MSEL_01832\n",
      "Writing preictal segments\n",
      "Writing interictal segments\n",
      "Writing segments for patient: MSEL_01836\n",
      "Writing segments for patient: MSEL_01838\n",
      "Writing preictal segments\n",
      "Writing interictal segments\n",
      "Writing segments for patient: MSEL_01842\n",
      "Writing preictal segments\n",
      "Writing interictal segments\n",
      "Writing segments for patient: MSEL_01844\n",
      "Writing preictal segments\n",
      "Writing interictal segments\n",
      "Writing segments for patient: MSEL_01849\n",
      "Writing preictal segments\n",
      "Writing interictal segments\n",
      "Writing segments for patient: MSEL_01853\n",
      "Writing preictal segments\n",
      "Writing interictal segments\n",
      "Writing segments for patient: MSEL_01870\n",
      "Writing preictal segments\n",
      "Writing interictal segments\n"
     ]
    }
   ],
   "source": [
    "# Turn off SettingWithCopyWarning\n",
    "pd.options.mode.chained_assignment = None\n",
    "\n",
    "# patient_ids = [\"MSEL_01844\"]\n",
    "for patient_id in patient_ids:\n",
    "    print(f\"Writing segments for patient: {patient_id}\")\n",
    "\n",
    "    # Load patient's recording and remove first and last hour\n",
    "    patient_data = pd.read_parquet(f\"data\\{patient_id}_128Hz_scaled.parquet\")\n",
    "    patient_data = patient_data.iloc[460800:-460800]\n",
    "\n",
    "    # If the patient's recording is less than 2hr they will have no data. TF move to next patient\n",
    "    if not patient_data.any(axis=None):\n",
    "        continue\n",
    "\n",
    "    # Load the annotation for the patients recording\n",
    "    labels = pd.read_csv(f\"data\\data\\{patient_id}\\{patient_id}_labels.csv\")\n",
    "\n",
    "    # Labels may be annotated when the recording does not exist or in first or last hour. TF remove labels for which there is no recording.\n",
    "    labels = labels[labels[\"labels.startTime\"] - labels[\"startTime\"]<patient_data.index[-1]]\n",
    "    \n",
    "    # Recording start time \n",
    "    start_time = labels[\"startTime\"][0]\n",
    "\n",
    "    # Calculate end time of each clinical event (seizures including subclinical ones)\n",
    "    labels[\"labels.endTime\"] = labels[\"labels.startTime\"] + labels[\"labels.duration\"]\n",
    "\n",
    "    # label_notes contains bool of whether label corresponds to seizure or not\n",
    "    with open(\"labels.json\") as f:\n",
    "        label_notes = json.load(f)\n",
    "\n",
    "    # Get indexes where label not corresponds to a seizure\n",
    "    is_seizure = [label_notes[note]==1 for note in labels[\"labels.note\"].values]\n",
    "\n",
    "    # Get annotations for seizures\n",
    "    seizures = labels[is_seizure]\n",
    "\n",
    "    # Get start and end time for all seizures\n",
    "    seizure_start_times = seizures[\"labels.startTime\"] - start_time\n",
    "    seizure_end_times = seizures[\"labels.endTime\"] - start_time\n",
    "\n",
    "    # Determine whether seizure is lead seizure or not by finding time since last seizure\n",
    "    previous_seizure_times = np.roll(seizure_start_times, 1)\n",
    "    previous_seizure_times[0] = -7200000 # So that first recorded seizure is always considered as a lead seizure\n",
    "    time_since_seizure =  seizure_start_times - previous_seizure_times\n",
    "    is_lead_seizure = time_since_seizure > 7200000\n",
    "\n",
    "    # Get start times for lead seizures\n",
    "    lead_seizure_start_times = seizure_start_times[is_lead_seizure]\n",
    "\n",
    "    # Write preictal segments\n",
    "    preictal_start_times = lead_seizure_start_times - 3660000 #milliseconds (61mins) before start of lead seizure\n",
    "    preictal_end_times = lead_seizure_start_times - 60000 - 7.8125 #milliseconds (1min) before start of lead seizure\n",
    "    \n",
    "    print('Writing preictal segments')\n",
    "    segment_id = 0\n",
    "    for preictal_start_time, preictal_end_time in zip(preictal_start_times, preictal_end_times):\n",
    "        preictal_end_time = ceil((preictal_end_time)/7.8125)*7.8125\n",
    "       \n",
    "        segment_start_time = ceil((preictal_start_time)/7.8125)*7.8125\n",
    "        segment_end_time = segment_start_time + 29992.1875\n",
    "        while segment_end_time <= preictal_end_time:\n",
    "            # Current segment\n",
    "            segment_data = patient_data.loc[segment_start_time:segment_end_time]\n",
    "\n",
    "            # Update for next segment\n",
    "            segment_start_time = segment_end_time + 7.8125\n",
    "            segment_end_time = segment_start_time + 29992.1875\n",
    "\n",
    "            if not segment_data.any(axis=None):\n",
    "                continue\n",
    "\n",
    "            # If segment is missing less than 1s fill with segment channel avg, else discard segment\n",
    "            num_empty_rows = segment_data.isna().any(axis=1).sum()\n",
    "            if 0 < num_empty_rows < 128:\n",
    "                # https://stackoverflow.com/questions/18689823/pandas-dataframe-replace-nan-values-with-average-of-columns\n",
    "                for i in segment_data.columns[segment_data.isna().any(axis=0)]:\n",
    "                    segment_data[i].fillna(segment_data[i].mean(), inplace=True)\n",
    "            elif num_empty_rows >= 128:\n",
    "                continue\n",
    "                \n",
    "            # Downsample segment to 4Hz\n",
    "            # Recommended to call decimate multiple times for downsampling factors higher than 13\n",
    "            downsampled = decimate(segment_data, q=8, axis=0)\n",
    "            downsampled = decimate(downsampled, q=4, axis=0)\n",
    "\n",
    "            # Save downsampled data to parquet\n",
    "            downsampled_df = pd.DataFrame(data=downsampled, columns=segment_data.columns)\n",
    "            downsampled_df.to_parquet(f\"data/segments/{patient_id}/preictal/{patient_id}_preictal_4Hz_segment_{segment_id}.parquet\")\n",
    "            segment_id += 1\n",
    "\n",
    "    # Write interictal segments\n",
    "    max_time = ceil(patient_data.index[-1])\n",
    "\n",
    "    next_seizure_index = 0\n",
    "    next_seizure_start_time = seizure_start_times.iloc[next_seizure_index]\n",
    "    next_seizure_end_time = seizure_end_times.iloc[next_seizure_index]\n",
    "\n",
    "    print('Writing interictal segments')\n",
    "    segment_id = 0\n",
    "    segment_start_time = patient_data.index[0]\n",
    "    segment_end_time = segment_start_time + 29992.1875\n",
    "    while segment_end_time < max_time:\n",
    "        # print(segment_start_time, segment_end_time)\n",
    "        if segment_end_time < next_seizure_start_time - 7200000:\n",
    "            # Read current segment\n",
    "            segment_data = patient_data.loc[segment_start_time:segment_end_time]\n",
    "\n",
    "            # Update for next segment\n",
    "            segment_start_time = segment_end_time + 7.8125\n",
    "            segment_end_time = segment_start_time + 29992.1875\n",
    "\n",
    "            # If segment is missing less than 1s fill with segment channel avg, else discard segment\n",
    "            num_empty_rows = segment_data.isna().any(axis=1).sum()\n",
    "            if 0 < num_empty_rows < 128:\n",
    "                # https://stackoverflow.com/questions/18689823/pandas-dataframe-replace-nan-values-with-average-of-columns\n",
    "                for i in segment_data.columns[segment_data.isna().any(axis=0)]:\n",
    "                    segment_data[i].fillna(segment_data[i].mean(), inplace=True)\n",
    "            elif num_empty_rows >= 128:\n",
    "                continue\n",
    "            \n",
    "            # Downsample segment to 4Hz\n",
    "            # Recommended to call decimate multiple times for downsampling factors higher than 13\n",
    "            downsampled = decimate(segment_data, q=8, axis=0)\n",
    "            downsampled = decimate(downsampled, q=4, axis=0)\n",
    "\n",
    "            # Save downsampled data to parquet\n",
    "            downsampled_df = pd.DataFrame(data=downsampled, columns=segment_data.columns)\n",
    "            downsampled_df.to_parquet(f\"data/segments/{patient_id}/interictal/{patient_id}_interictal_4Hz_segment_{segment_id}.parquet\")\n",
    "            segment_id += 1\n",
    "            \n",
    "        else:\n",
    "            segment_start_time = ceil((next_seizure_end_time + 7200000)/7.8125)*7.8125\n",
    "            segment_end_time = segment_start_time + 29992.1875\n",
    "\n",
    "            next_seizure_index += 1\n",
    "            try:\n",
    "                next_seizure_start_time = seizure_start_times.iloc[next_seizure_index]\n",
    "                next_seizure_end_time = seizure_end_times.iloc[next_seizure_index]\n",
    "            except IndexError:\n",
    "                next_seizure_start_time = np.Infinity\n",
    "\n",
    "# Turn on SettingWithCopyWarning\n",
    "pd.options.mode.chained_assignment = \"warn\""
   ]
  },
  {
   "cell_type": "code",
   "execution_count": 280,
   "metadata": {},
   "outputs": [],
   "source": [
    "df = pd.read_parquet(\"data\\segments\\MSEL_01844\\interictal\\MSEL_01844_interictal_4Hz_segment_16.parquet\")"
   ]
  },
  {
   "cell_type": "code",
   "execution_count": 281,
   "metadata": {},
   "outputs": [
    {
     "data": {
      "text/plain": [
       "<AxesSubplot:>"
      ]
     },
     "execution_count": 281,
     "metadata": {},
     "output_type": "execute_result"
    },
    {
     "data": {
      "image/png": "[encoded data removed]",
      "text/plain": [
       "<Figure size 432x288 with 1 Axes>"
      ]
     },
     "metadata": {
      "needs_background": "light"
     },
     "output_type": "display_data"
    }
   ],
   "source": [
    "df[\"TEMP\"].plot()"
   ]
  },
  {
   "cell_type": "code",
   "execution_count": null,
   "metadata": {},
   "outputs": [],
   "source": []
  }
 ],
 "metadata": {
  "interpreter": {
   "hash": "ab9f64ede123343d9ad5b28ae676d0ce0e26d6747c3528440fbd05d255310970"
  },
  "kernelspec": {
   "display_name": "Python 3.8.5 64-bit ('base': conda)",
   "name": "python3"
  },
  "language_info": {
   "codemirror_mode": {
    "name": "ipython",
    "version": 3
   },
   "file_extension": ".py",
   "mimetype": "text/x-python",
   "name": "python",
   "nbconvert_exporter": "python",
   "pygments_lexer": "ipython3",
   "version": "3.8.5"
  },
  "orig_nbformat": 4
 },
 "nbformat": 4,
 "nbformat_minor": 2
}
