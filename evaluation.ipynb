{
 "cells": [
  {
   "cell_type": "code",
   "execution_count": 1,
   "metadata": {},
   "outputs": [],
   "source": [
    "import pandas as pd\n",
    "import numpy as np\n",
    "import os\n",
    "import json\n",
    "\n",
    "from math import floor, ceil, log, exp\n",
    "from glob import glob\n",
    "from tqdm import tqdm\n",
    "from scipy.signal import decimate\n",
    "from scipy.stats import binom\n",
    "from sklearn.preprocessing import MinMaxScaler\n",
    "\n",
    "import matplotlib.pyplot as plt\n",
    "%matplotlib inline"
   ]
  },
  {
   "cell_type": "code",
   "execution_count": 2,
   "metadata": {},
   "outputs": [],
   "source": [
    "class Alarm:\n",
    "    def __init__(self, start, timer_duration, detection_interval, max_time):\n",
    "        self.start = start\n",
    "        self.end = start + timer_duration\n",
    "        self.warning_start = start + detection_interval\n",
    "        self.timer_duration = timer_duration\n",
    "        self.detection_interval = detection_interval\n",
    "        self.max_time = max_time\n",
    "        self.seizures = []\n",
    "\n",
    "    def duration(self):\n",
    "        return self.end - self.start\n",
    "\n",
    "    def contains(self, time):\n",
    "        return self.start<=time<=self.end\n",
    "\n",
    "    def warns_seizure(self, time):\n",
    "        return self.warning_start<=time<=self.end\n",
    "\n",
    "    def add_seizures(self, seizures):\n",
    "        for seizure in seizures:\n",
    "            if self.warns_seizure(seizure):\n",
    "                self.seizures.append(seizure)\n",
    "\n",
    "    def extend_from(self, time):\n",
    "        self.end = time + self.timer_duration\n",
    "        if self.end > self.max_time:\n",
    "            self.end = self.max_time"
   ]
  },
  {
   "cell_type": "code",
   "execution_count": 3,
   "metadata": {},
   "outputs": [],
   "source": [
    "patients = ['MSEL_00172', 'MSEL_00501', 'MSEL_01097', 'MSEL_01110-ICU', 'MSEL_01575', 'MSEL_01808', 'MSEL_01838', 'MSEL_01842', 'MSEL_01844']\n",
    "patient_id = patients[0]"
   ]
  },
  {
   "cell_type": "code",
   "execution_count": 4,
   "metadata": {},
   "outputs": [],
   "source": [
    "def predict_segment(segment):\n",
    "    return np.random.randint(2)"
   ]
  },
  {
   "cell_type": "code",
   "execution_count": 5,
   "metadata": {},
   "outputs": [],
   "source": [
    "def predict_patient(patient_id, prediction_function, probability_threshold=0.5):\n",
    "    labels = pd.read_csv(f\"data\\data\\{patient_id}\\{patient_id}_labels.csv\")\n",
    "    n_segments = int((labels[\"duration\"][0]-labels[\"duration\"][0]%30000)/30000)\n",
    "\n",
    "    predictions = pd.DataFrame(data={\"prediction_probability\":np.nan, \"time\":np.nan}, index=pd.RangeIndex(start=0, stop=n_segments, step=1))\n",
    "    for segment_id in range(n_segments):\n",
    "        try:\n",
    "            segment = pd.read_parquet(f\"data/segments/test/{patient_id}/{patient_id}_test_segment_{segment_id}.parquet\")\n",
    "        except FileNotFoundError:\n",
    "            continue\n",
    "        predictions.loc[segment_id, \"time\"] = segment.index[-1] + 250\n",
    "        predictions.loc[segment_id, \"prediction_probability\"] = prediction_function(segment)\n",
    "    predictions = predictions.loc[:predictions[\"prediction_probability\"].last_valid_index()]\n",
    "    predictions[\"prediction\"] = predictions[\"prediction_probability\"] > probability_threshold\n",
    "    predictions = predictions.dropna(axis=0)\n",
    "    return predictions"
   ]
  },
  {
   "cell_type": "code",
   "execution_count": 6,
   "metadata": {},
   "outputs": [],
   "source": [
    "def get_seizure_times(patient_id):\n",
    "    labels = pd.read_csv(f\"data\\data\\{patient_id}\\{patient_id}_labels.csv\")\n",
    "    start_time = labels[\"startTime\"][0]\n",
    "    seizure_times = labels[\"labels.startTime\"] - start_time\n",
    "    return seizure_times"
   ]
  },
  {
   "cell_type": "code",
   "execution_count": 7,
   "metadata": {},
   "outputs": [],
   "source": [
    "def get_triggers(predictions, integration_windows, thresholds):\n",
    "    moving_averages = pd.DataFrame(data={\"time\":predictions[\"time\"]}, index=predictions.index)\n",
    "    triggers = pd.DataFrame(data={\"time\":predictions[\"time\"]}, index=predictions.index)\n",
    "    for window_size in integration_windows:\n",
    "        moving_averages[window_size] = predictions[\"prediction\"].rolling(int(window_size/30000)).mean()\n",
    "        for threshold in thresholds:\n",
    "            triggers[f\"{window_size}_{threshold}\"] = moving_averages[window_size] > threshold\n",
    "    return triggers"
   ]
  },
  {
   "cell_type": "code",
   "execution_count": 8,
   "metadata": {},
   "outputs": [],
   "source": [
    "def get_alarms(triggers, timer_duration, detection_interval, recording_duration):\n",
    "    alarms = {}\n",
    "    hyperparameters = triggers.columns[triggers.columns!=\"time\"]\n",
    "    for hyperparameter in hyperparameters:\n",
    "        hyperparameter_trigger_times = triggers.loc[triggers[hyperparameter], \"time\"]\n",
    "        alarms[hyperparameter] = []\n",
    "        current_alarm = Alarm(hyperparameter_trigger_times.iloc[0], timer_duration, detection_interval, recording_duration)\n",
    "        for trigger_time in hyperparameter_trigger_times:\n",
    "            if current_alarm.contains(trigger_time):\n",
    "                current_alarm.extend_from(trigger_time)\n",
    "            else:\n",
    "                alarms[hyperparameter].append(current_alarm)\n",
    "                current_alarm = Alarm(trigger_time, timer_duration, detection_interval, recording_duration)\n",
    "        alarms[hyperparameter].append(current_alarm)\n",
    "    return alarms"
   ]
  },
  {
   "cell_type": "code",
   "execution_count": 9,
   "metadata": {},
   "outputs": [],
   "source": [
    "def p_value(n_correct, n_seizures, chance_sensitivity):\n",
    "    if n_correct/n_seizures > chance_sensitivity:\n",
    "        k_f = floor(2*n_seizures*chance_sensitivity-n_correct)\n",
    "        return 1-binom.cdf(n_correct-1, n_seizures, chance_sensitivity)+binom.cdf(k_f, n_seizures, chance_sensitivity)\n",
    "    elif  n_correct/n_seizures < chance_sensitivity:\n",
    "        k_c = ceil(2*n_seizures*chance_sensitivity-n_correct)\n",
    "        return 1-binom.cdf(k_c-1, n_seizures, chance_sensitivity)+binom.cdf(n_correct, n_seizures, chance_sensitivity)\n",
    "    else:\n",
    "        raise Exception(\"Hey Bailey\")"
   ]
  },
  {
   "cell_type": "code",
   "execution_count": 10,
   "metadata": {},
   "outputs": [],
   "source": [
    "def get_metrics(alarms, seizure_times, recording_duration):\n",
    "    detection_interval = alarms[0].detection_interval\n",
    "    timer_duration = alarms[0].timer_duration\n",
    "    n_correct = sum([len(alarm.seizures) for alarm in alarms])\n",
    "    n_seizures = len(seizure_times)\n",
    "    sensitivity = n_correct/n_seizures\n",
    "    time_in_warning = sum([alarm.duration() for alarm in alarms])/recording_duration\n",
    "\n",
    "    # tau_w = timer_duration/recording_duration\n",
    "    # tau_w0 = detection_interval/recording_duration\n",
    "    rate_parameter = (-1/timer_duration)*log(1-time_in_warning)\n",
    "    chance_sensitivity = 1 - exp((-rate_parameter*timer_duration)+(1 - exp(-rate_parameter*detection_interval)))\n",
    "    improvement_over_chance = sensitivity - chance_sensitivity\n",
    "    p = p_value(n_correct, n_seizures, chance_sensitivity)\n",
    "    return {\"S\": sensitivity, \"TiW\": time_in_warning, \"IoC\": improvement_over_chance, \"p\": p}"
   ]
  },
  {
   "cell_type": "code",
   "execution_count": 11,
   "metadata": {},
   "outputs": [],
   "source": [
    "integration_windows = [600000, 300000]\n",
    "thresholds = [0.4, 0.5, 0.6]\n",
    "timer_duration = 450000\n",
    "detection_interval = 60000"
   ]
  },
  {
   "cell_type": "code",
   "execution_count": 12,
   "metadata": {},
   "outputs": [],
   "source": [
    "predictions = predict_patient(patient_id, predict_segment)"
   ]
  },
  {
   "cell_type": "code",
   "execution_count": 15,
   "metadata": {},
   "outputs": [],
   "source": [
    "def evaluate(patient_id, predictions):\n",
    "    recording_duration = predictions[\"time\"].max()\n",
    "    seizure_times = get_seizure_times(patient_id)\n",
    "    seizure_times = seizure_times[seizure_times<recording_duration]\n",
    "    triggers = get_triggers(predictions, integration_windows, thresholds)\n",
    "    print(triggers)\n",
    "    alarms = get_alarms(triggers, timer_duration, detection_interval, recording_duration)\n",
    "\n",
    "    metrics = {}\n",
    "    for hyperparameter, hyperparameter_alarms in alarms.items():\n",
    "        for alarm in hyperparameter_alarms:\n",
    "            alarm.add_seizures(seizure_times)\n",
    "        metrics[hyperparameter] = get_metrics(hyperparameter_alarms, seizure_times, recording_duration)\n",
    "    return metrics"
   ]
  },
  {
   "cell_type": "code",
   "execution_count": 16,
   "metadata": {},
   "outputs": [
    {
     "name": "stdout",
     "output_type": "stream",
     "text": [
      "Empty DataFrame\n",
      "Columns: [time, 600000_0.4, 600000_0.5, 600000_0.6, 300000_0.4, 300000_0.5, 300000_0.6]\n",
      "Index: []\n"
     ]
    },
    {
     "ename": "IndexError",
     "evalue": "single positional indexer is out-of-bounds",
     "output_type": "error",
     "traceback": [
      "\u001b[1;31m---------------------------------------------------------------------------\u001b[0m",
      "\u001b[1;31mIndexError\u001b[0m                                Traceback (most recent call last)",
      "\u001b[1;32m<ipython-input-16-7059175b4044>\u001b[0m in \u001b[0;36m<module>\u001b[1;34m\u001b[0m\n\u001b[1;32m----> 1\u001b[1;33m \u001b[0mevaluate\u001b[0m\u001b[1;33m(\u001b[0m\u001b[0mpatient_id\u001b[0m\u001b[1;33m,\u001b[0m \u001b[0mpredictions\u001b[0m\u001b[1;33m)\u001b[0m\u001b[1;33m\u001b[0m\u001b[1;33m\u001b[0m\u001b[0m\n\u001b[0m",
      "\u001b[1;32m<ipython-input-15-0e96c5255ed1>\u001b[0m in \u001b[0;36mevaluate\u001b[1;34m(patient_id, predictions)\u001b[0m\n\u001b[0;32m      5\u001b[0m     \u001b[0mtriggers\u001b[0m \u001b[1;33m=\u001b[0m \u001b[0mget_triggers\u001b[0m\u001b[1;33m(\u001b[0m\u001b[0mpredictions\u001b[0m\u001b[1;33m,\u001b[0m \u001b[0mintegration_windows\u001b[0m\u001b[1;33m,\u001b[0m \u001b[0mthresholds\u001b[0m\u001b[1;33m)\u001b[0m\u001b[1;33m\u001b[0m\u001b[1;33m\u001b[0m\u001b[0m\n\u001b[0;32m      6\u001b[0m     \u001b[0mprint\u001b[0m\u001b[1;33m(\u001b[0m\u001b[0mtriggers\u001b[0m\u001b[1;33m)\u001b[0m\u001b[1;33m\u001b[0m\u001b[1;33m\u001b[0m\u001b[0m\n\u001b[1;32m----> 7\u001b[1;33m     \u001b[0malarms\u001b[0m \u001b[1;33m=\u001b[0m \u001b[0mget_alarms\u001b[0m\u001b[1;33m(\u001b[0m\u001b[0mtriggers\u001b[0m\u001b[1;33m,\u001b[0m \u001b[0mtimer_duration\u001b[0m\u001b[1;33m,\u001b[0m \u001b[0mdetection_interval\u001b[0m\u001b[1;33m,\u001b[0m \u001b[0mrecording_duration\u001b[0m\u001b[1;33m)\u001b[0m\u001b[1;33m\u001b[0m\u001b[1;33m\u001b[0m\u001b[0m\n\u001b[0m\u001b[0;32m      8\u001b[0m \u001b[1;33m\u001b[0m\u001b[0m\n\u001b[0;32m      9\u001b[0m     \u001b[0mmetrics\u001b[0m \u001b[1;33m=\u001b[0m \u001b[1;33m{\u001b[0m\u001b[1;33m}\u001b[0m\u001b[1;33m\u001b[0m\u001b[1;33m\u001b[0m\u001b[0m\n",
      "\u001b[1;32m<ipython-input-8-35b3030da979>\u001b[0m in \u001b[0;36mget_alarms\u001b[1;34m(triggers, timer_duration, detection_interval, recording_duration)\u001b[0m\n\u001b[0;32m      5\u001b[0m         \u001b[0mhyperparameter_trigger_times\u001b[0m \u001b[1;33m=\u001b[0m \u001b[0mtriggers\u001b[0m\u001b[1;33m.\u001b[0m\u001b[0mloc\u001b[0m\u001b[1;33m[\u001b[0m\u001b[0mtriggers\u001b[0m\u001b[1;33m[\u001b[0m\u001b[0mhyperparameter\u001b[0m\u001b[1;33m]\u001b[0m\u001b[1;33m,\u001b[0m \u001b[1;34m\"time\"\u001b[0m\u001b[1;33m]\u001b[0m\u001b[1;33m\u001b[0m\u001b[1;33m\u001b[0m\u001b[0m\n\u001b[0;32m      6\u001b[0m         \u001b[0malarms\u001b[0m\u001b[1;33m[\u001b[0m\u001b[0mhyperparameter\u001b[0m\u001b[1;33m]\u001b[0m \u001b[1;33m=\u001b[0m \u001b[1;33m[\u001b[0m\u001b[1;33m]\u001b[0m\u001b[1;33m\u001b[0m\u001b[1;33m\u001b[0m\u001b[0m\n\u001b[1;32m----> 7\u001b[1;33m         \u001b[0mcurrent_alarm\u001b[0m \u001b[1;33m=\u001b[0m \u001b[0mAlarm\u001b[0m\u001b[1;33m(\u001b[0m\u001b[0mhyperparameter_trigger_times\u001b[0m\u001b[1;33m.\u001b[0m\u001b[0miloc\u001b[0m\u001b[1;33m[\u001b[0m\u001b[1;36m0\u001b[0m\u001b[1;33m]\u001b[0m\u001b[1;33m,\u001b[0m \u001b[0mtimer_duration\u001b[0m\u001b[1;33m,\u001b[0m \u001b[0mdetection_interval\u001b[0m\u001b[1;33m,\u001b[0m \u001b[0mrecording_duration\u001b[0m\u001b[1;33m)\u001b[0m\u001b[1;33m\u001b[0m\u001b[1;33m\u001b[0m\u001b[0m\n\u001b[0m\u001b[0;32m      8\u001b[0m         \u001b[1;32mfor\u001b[0m \u001b[0mtrigger_time\u001b[0m \u001b[1;32min\u001b[0m \u001b[0mhyperparameter_trigger_times\u001b[0m\u001b[1;33m:\u001b[0m\u001b[1;33m\u001b[0m\u001b[1;33m\u001b[0m\u001b[0m\n\u001b[0;32m      9\u001b[0m             \u001b[1;32mif\u001b[0m \u001b[0mcurrent_alarm\u001b[0m\u001b[1;33m.\u001b[0m\u001b[0mcontains\u001b[0m\u001b[1;33m(\u001b[0m\u001b[0mtrigger_time\u001b[0m\u001b[1;33m)\u001b[0m\u001b[1;33m:\u001b[0m\u001b[1;33m\u001b[0m\u001b[1;33m\u001b[0m\u001b[0m\n",
      "\u001b[1;32m~\\anaconda3\\lib\\site-packages\\pandas\\core\\indexing.py\u001b[0m in \u001b[0;36m__getitem__\u001b[1;34m(self, key)\u001b[0m\n\u001b[0;32m    929\u001b[0m \u001b[1;33m\u001b[0m\u001b[0m\n\u001b[0;32m    930\u001b[0m             \u001b[0mmaybe_callable\u001b[0m \u001b[1;33m=\u001b[0m \u001b[0mcom\u001b[0m\u001b[1;33m.\u001b[0m\u001b[0mapply_if_callable\u001b[0m\u001b[1;33m(\u001b[0m\u001b[0mkey\u001b[0m\u001b[1;33m,\u001b[0m \u001b[0mself\u001b[0m\u001b[1;33m.\u001b[0m\u001b[0mobj\u001b[0m\u001b[1;33m)\u001b[0m\u001b[1;33m\u001b[0m\u001b[1;33m\u001b[0m\u001b[0m\n\u001b[1;32m--> 931\u001b[1;33m             \u001b[1;32mreturn\u001b[0m \u001b[0mself\u001b[0m\u001b[1;33m.\u001b[0m\u001b[0m_getitem_axis\u001b[0m\u001b[1;33m(\u001b[0m\u001b[0mmaybe_callable\u001b[0m\u001b[1;33m,\u001b[0m \u001b[0maxis\u001b[0m\u001b[1;33m=\u001b[0m\u001b[0maxis\u001b[0m\u001b[1;33m)\u001b[0m\u001b[1;33m\u001b[0m\u001b[1;33m\u001b[0m\u001b[0m\n\u001b[0m\u001b[0;32m    932\u001b[0m \u001b[1;33m\u001b[0m\u001b[0m\n\u001b[0;32m    933\u001b[0m     \u001b[1;32mdef\u001b[0m \u001b[0m_is_scalar_access\u001b[0m\u001b[1;33m(\u001b[0m\u001b[0mself\u001b[0m\u001b[1;33m,\u001b[0m \u001b[0mkey\u001b[0m\u001b[1;33m:\u001b[0m \u001b[0mtuple\u001b[0m\u001b[1;33m)\u001b[0m\u001b[1;33m:\u001b[0m\u001b[1;33m\u001b[0m\u001b[1;33m\u001b[0m\u001b[0m\n",
      "\u001b[1;32m~\\anaconda3\\lib\\site-packages\\pandas\\core\\indexing.py\u001b[0m in \u001b[0;36m_getitem_axis\u001b[1;34m(self, key, axis)\u001b[0m\n\u001b[0;32m   1564\u001b[0m \u001b[1;33m\u001b[0m\u001b[0m\n\u001b[0;32m   1565\u001b[0m             \u001b[1;31m# validate the location\u001b[0m\u001b[1;33m\u001b[0m\u001b[1;33m\u001b[0m\u001b[1;33m\u001b[0m\u001b[0m\n\u001b[1;32m-> 1566\u001b[1;33m             \u001b[0mself\u001b[0m\u001b[1;33m.\u001b[0m\u001b[0m_validate_integer\u001b[0m\u001b[1;33m(\u001b[0m\u001b[0mkey\u001b[0m\u001b[1;33m,\u001b[0m \u001b[0maxis\u001b[0m\u001b[1;33m)\u001b[0m\u001b[1;33m\u001b[0m\u001b[1;33m\u001b[0m\u001b[0m\n\u001b[0m\u001b[0;32m   1567\u001b[0m \u001b[1;33m\u001b[0m\u001b[0m\n\u001b[0;32m   1568\u001b[0m             \u001b[1;32mreturn\u001b[0m \u001b[0mself\u001b[0m\u001b[1;33m.\u001b[0m\u001b[0mobj\u001b[0m\u001b[1;33m.\u001b[0m\u001b[0m_ixs\u001b[0m\u001b[1;33m(\u001b[0m\u001b[0mkey\u001b[0m\u001b[1;33m,\u001b[0m \u001b[0maxis\u001b[0m\u001b[1;33m=\u001b[0m\u001b[0maxis\u001b[0m\u001b[1;33m)\u001b[0m\u001b[1;33m\u001b[0m\u001b[1;33m\u001b[0m\u001b[0m\n",
      "\u001b[1;32m~\\anaconda3\\lib\\site-packages\\pandas\\core\\indexing.py\u001b[0m in \u001b[0;36m_validate_integer\u001b[1;34m(self, key, axis)\u001b[0m\n\u001b[0;32m   1498\u001b[0m         \u001b[0mlen_axis\u001b[0m \u001b[1;33m=\u001b[0m \u001b[0mlen\u001b[0m\u001b[1;33m(\u001b[0m\u001b[0mself\u001b[0m\u001b[1;33m.\u001b[0m\u001b[0mobj\u001b[0m\u001b[1;33m.\u001b[0m\u001b[0m_get_axis\u001b[0m\u001b[1;33m(\u001b[0m\u001b[0maxis\u001b[0m\u001b[1;33m)\u001b[0m\u001b[1;33m)\u001b[0m\u001b[1;33m\u001b[0m\u001b[1;33m\u001b[0m\u001b[0m\n\u001b[0;32m   1499\u001b[0m         \u001b[1;32mif\u001b[0m \u001b[0mkey\u001b[0m \u001b[1;33m>=\u001b[0m \u001b[0mlen_axis\u001b[0m \u001b[1;32mor\u001b[0m \u001b[0mkey\u001b[0m \u001b[1;33m<\u001b[0m \u001b[1;33m-\u001b[0m\u001b[0mlen_axis\u001b[0m\u001b[1;33m:\u001b[0m\u001b[1;33m\u001b[0m\u001b[1;33m\u001b[0m\u001b[0m\n\u001b[1;32m-> 1500\u001b[1;33m             \u001b[1;32mraise\u001b[0m \u001b[0mIndexError\u001b[0m\u001b[1;33m(\u001b[0m\u001b[1;34m\"single positional indexer is out-of-bounds\"\u001b[0m\u001b[1;33m)\u001b[0m\u001b[1;33m\u001b[0m\u001b[1;33m\u001b[0m\u001b[0m\n\u001b[0m\u001b[0;32m   1501\u001b[0m \u001b[1;33m\u001b[0m\u001b[0m\n\u001b[0;32m   1502\u001b[0m     \u001b[1;31m# -------------------------------------------------------------------\u001b[0m\u001b[1;33m\u001b[0m\u001b[1;33m\u001b[0m\u001b[1;33m\u001b[0m\u001b[0m\n",
      "\u001b[1;31mIndexError\u001b[0m: single positional indexer is out-of-bounds"
     ]
    }
   ],
   "source": [
    "evaluate(patient_id, predictions)"
   ]
  },
  {
   "cell_type": "code",
   "execution_count": null,
   "metadata": {},
   "outputs": [
    {
     "data": {
      "text/plain": [
       "[600000.0]"
      ]
     },
     "execution_count": 120,
     "metadata": {},
     "output_type": "execute_result"
    }
   ],
   "source": [
    "def p_value(n_correct, n_seizures, chance_sensitivity)\n",
    "    "
   ]
  },
  {
   "cell_type": "code",
   "execution_count": null,
   "metadata": {},
   "outputs": [],
   "source": []
  },
  {
   "cell_type": "code",
   "execution_count": null,
   "metadata": {},
   "outputs": [
    {
     "data": {
      "text/plain": [
       "0.9204107626128206"
      ]
     },
     "execution_count": 211,
     "metadata": {},
     "output_type": "execute_result"
    }
   ],
   "source": [
    "p_value(49, 100, 0.5)"
   ]
  },
  {
   "cell_type": "code",
   "execution_count": null,
   "metadata": {},
   "outputs": [],
   "source": [
    "labels = pd.read_csv(f\"data\\data\\{patient_id}\\{patient_id}_labels.csv\")\n",
    "start_time = labels[\"startTime\"][0]\n",
    "seizure_times = labels[\"labels.startTime\"] - start_time\n",
    "\n",
    "with open(\"labels.json\") as f:\n",
    "    label_notes = json.load(f)\n",
    "\n",
    "seizure_indexes = np.floor(seizure_times/30000)\n",
    "seizure_indexes = seizure_indexes.loc[np.array([label_notes[note] for note in labels[\"labels.note\"]])==1]"
   ]
  },
  {
   "cell_type": "code",
   "execution_count": null,
   "metadata": {},
   "outputs": [
    {
     "data": {
      "text/plain": [
       "0      13104000\n",
       "1      27272000\n",
       "2      67902000\n",
       "3      78890000\n",
       "4      89870000\n",
       "5      92195000\n",
       "6      93707000\n",
       "7     163948000\n",
       "8     166401000\n",
       "9     248170000\n",
       "10    274770000\n",
       "11    279230000\n",
       "Name: labels.startTime, dtype: int64"
      ]
     },
     "execution_count": 236,
     "metadata": {},
     "output_type": "execute_result"
    }
   ],
   "source": [
    "seizure_times"
   ]
  },
  {
   "cell_type": "code",
   "execution_count": null,
   "metadata": {},
   "outputs": [
    {
     "data": {
      "text/plain": [
       "0.10937500000000001"
      ]
     },
     "execution_count": 250,
     "metadata": {},
     "output_type": "execute_result"
    }
   ],
   "source": [
    "p_value(8, 10, 0.5)"
   ]
  },
  {
   "cell_type": "code",
   "execution_count": null,
   "metadata": {},
   "outputs": [],
   "source": []
  }
 ],
 "metadata": {
  "interpreter": {
   "hash": "ab9f64ede123343d9ad5b28ae676d0ce0e26d6747c3528440fbd05d255310970"
  },
  "kernelspec": {
   "display_name": "Python 3.8.5 64-bit ('base': conda)",
   "name": "python3"
  },
  "language_info": {
   "codemirror_mode": {
    "name": "ipython",
    "version": 3
   },
   "file_extension": ".py",
   "mimetype": "text/x-python",
   "name": "python",
   "nbconvert_exporter": "python",
   "pygments_lexer": "ipython3",
   "version": "3.8.5"
  },
  "orig_nbformat": 4
 },
 "nbformat": 4,
 "nbformat_minor": 2
}
