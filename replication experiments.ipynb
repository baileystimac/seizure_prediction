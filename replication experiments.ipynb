{
 "cells": [
  {
   "cell_type": "code",
   "execution_count": 1,
   "metadata": {},
   "outputs": [],
   "source": [
    "import torch\n",
    "import pytorch_lightning as pl\n",
    "import pandas as pd\n",
    "import numpy as np\n",
    "from glob import glob\n",
    "from torch.utils.data import TensorDataset, DataLoader\n",
    "from pytorch_lightning import loggers as pl_loggers\n",
    "from models import FocalClassifier\n",
    "from evaluation import evaluate"
   ]
  },
  {
   "cell_type": "code",
   "execution_count": 2,
   "metadata": {},
   "outputs": [],
   "source": [
    "import warnings\n",
    "warnings.filterwarnings('ignore')"
   ]
  },
  {
   "cell_type": "code",
   "execution_count": 3,
   "metadata": {},
   "outputs": [
    {
     "name": "stdout",
     "output_type": "stream",
     "text": [
      "Using cuda device\n"
     ]
    }
   ],
   "source": [
    "device = 'cuda' if torch.cuda.is_available() else 'cpu'\n",
    "print('Using {} device'.format(device))"
   ]
  },
  {
   "cell_type": "code",
   "execution_count": 4,
   "metadata": {},
   "outputs": [],
   "source": [
    "interictal_data = torch.load(\"data/interictal.pt\")\n",
    "preictal_data = torch.load(\"data/preictal.pt\")"
   ]
  },
  {
   "cell_type": "code",
   "execution_count": 5,
   "metadata": {},
   "outputs": [],
   "source": [
    "patient_ids = list(interictal_data.keys())"
   ]
  },
  {
   "cell_type": "code",
   "execution_count": 6,
   "metadata": {},
   "outputs": [],
   "source": [
    "# for test_patient in patient_ids:\n",
    "#     ##----------------------------------------OVERSAMPLING-----------------------------------------------------------------------------##\n",
    "#     train_patients = [patient for patient in patient_ids if patient != test_patient]\n",
    "#     train_X = []\n",
    "#     train_y = []\n",
    "#     for patient in train_patients:\n",
    "#         patient_interictal_X = interictal_data[patient]\n",
    "#         patient_preictal_X = preictal_data[patient]\n",
    "#         # Oversampling preictal data\n",
    "#         sample_indexes = np.random.randint(low=0, high=len(patient_preictal_X), size=len(patient_interictal_X))\n",
    "#         patient_preictal_X = patient_preictal_X[sample_indexes]\n",
    "\n",
    "#         patient_interictal_y = torch.zeros(patient_interictal_X.shape[0])\n",
    "#         patient_preictal_y = torch.ones(patient_preictal_X.shape[0])\n",
    "        \n",
    "\n",
    "#         patient_train_X = torch.cat([patient_interictal_X, patient_preictal_X])\n",
    "#         patient_train_y = torch.cat([patient_interictal_y, patient_preictal_y])\n",
    "\n",
    "#         train_X.append(patient_train_X)\n",
    "#         train_y.append(patient_train_y)\n",
    "\n",
    "#     train_X = torch.cat(train_X)\n",
    "#     train_y = torch.cat(train_y)\n",
    "\n",
    "#     ##----------------------------------------UNDERSAMPLING-----------------------------------------------------------------------------##\n",
    "#     # interictal_train_X = torch.cat([patient_data for patient_id, patient_data in interictal_data.items() if patient_id!=test_patient])\n",
    "#     # preictal_train_X = torch.cat([patient_data for patient_id, patient_data in preictal_data.items() if patient_id!=test_patient])\n",
    "#     # # Undersample interictal data\n",
    "#     # interictal_train_X = interictal_train_X[::int(len(interictal_train_X)/len(preictal_train_X))]\n",
    "#     # train_X = torch.cat([interictal_train_X, preictal_train_X])\n",
    "\n",
    "#     # interictal_train_y = torch.zeros(interictal_train_X.shape[0])\n",
    "#     # preictal_train_y = torch.ones(preictal_train_X.shape[0])\n",
    "#     # train_y = torch.cat([interictal_train_y, preictal_train_y])\n",
    "#     ##----------------------------------------------------------------------------------------------------------------------------------##\n",
    "\n",
    "#     train_dataset = TensorDataset(train_X, train_y)\n",
    "#     train_dataloader = DataLoader(train_dataset, batch_size=256, shuffle=True)\n",
    "\n",
    "    \n",
    "#     try:\n",
    "#         model_path = glob(f\"experiments/oversampling/meisel/{test_patient}/version_0/checkpoints/*.ckpt\")[0]\n",
    "#     except IndexError:\n",
    "#         model = MeiselClassifier()\n",
    "#         tb_logger = pl_loggers.TensorBoardLogger(\"experiments/oversampling\", name=f\"meisel/{test_patient}\")\n",
    "#         trainer = pl.Trainer(gpus=1, max_epochs=200, logger=tb_logger)\n",
    "#         trainer.fit(model, train_dataloader)"
   ]
  },
  {
   "cell_type": "markdown",
   "metadata": {},
   "source": [
    "# Evaluation"
   ]
  },
  {
   "cell_type": "code",
   "execution_count": 11,
   "metadata": {},
   "outputs": [
    {
     "name": "stdout",
     "output_type": "stream",
     "text": [
      "experiments/focal_loss/meisel/MSEL_00095/version_0/checkpoints\\epoch=199-step=168599.ckpt\n",
      "experiments/focal_loss/meisel/MSEL_00172/version_0/checkpoints\\epoch=199-step=177799.ckpt\n",
      "experiments/focal_loss/meisel/MSEL_00182/version_0/checkpoints\\epoch=199-step=175399.ckpt\n",
      "experiments/focal_loss/meisel/MSEL_00501/version_0/checkpoints\\epoch=199-step=175599.ckpt\n",
      "experiments/focal_loss/meisel/MSEL_00502/version_0/checkpoints\\epoch=199-step=178999.ckpt\n",
      "experiments/focal_loss/meisel/MSEL_00764/version_0/checkpoints\\epoch=199-step=177399.ckpt\n",
      "experiments/focal_loss/meisel/MSEL_01097/version_0/checkpoints\\epoch=199-step=172199.ckpt\n",
      "experiments/focal_loss/meisel/MSEL_01110-ICU/version_0/checkpoints\\epoch=199-step=175799.ckpt\n",
      "experiments/focal_loss/meisel/MSEL_01462/version_0/checkpoints\\epoch=199-step=177399.ckpt\n",
      "experiments/focal_loss/meisel/MSEL_01550/version_0/checkpoints\\epoch=199-step=172399.ckpt\n",
      "experiments/focal_loss/meisel/MSEL_01575/version_0/checkpoints\\epoch=199-step=172999.ckpt\n",
      "experiments/focal_loss/meisel/MSEL_01676/version_0/checkpoints\\epoch=199-step=166799.ckpt\n",
      "experiments/focal_loss/meisel/MSEL_01709/version_0/checkpoints\\epoch=199-step=173599.ckpt\n",
      "experiments/focal_loss/meisel/MSEL_01763/version_0/checkpoints\\epoch=199-step=180799.ckpt\n",
      "experiments/focal_loss/meisel/MSEL_01808/version_0/checkpoints\\epoch=199-step=174999.ckpt\n",
      "experiments/focal_loss/meisel/MSEL_01828/version_0/checkpoints\\epoch=199-step=180799.ckpt\n",
      "experiments/focal_loss/meisel/MSEL_01832/version_0/checkpoints\\epoch=199-step=162399.ckpt\n",
      "experiments/focal_loss/meisel/MSEL_01838/version_0/checkpoints\\epoch=199-step=172999.ckpt\n",
      "experiments/focal_loss/meisel/MSEL_01842/version_0/checkpoints\\epoch=199-step=175199.ckpt\n",
      "experiments/focal_loss/meisel/MSEL_01844/version_0/checkpoints\\epoch=199-step=174599.ckpt\n",
      "experiments/focal_loss/meisel/MSEL_01849/version_0/checkpoints\\epoch=199-step=169399.ckpt\n",
      "experiments/focal_loss/meisel/MSEL_01853/version_0/checkpoints\\epoch=199-step=181599.ckpt\n",
      "experiments/focal_loss/meisel/MSEL_01870/version_0/checkpoints\\epoch=199-step=172399.ckpt\n"
     ]
    }
   ],
   "source": [
    "test_results = pd.DataFrame()\n",
    "for test_patient in patient_ids:\n",
    "    model_path = glob(f\"experiments/focal_loss/meisel/{test_patient}/version_0/checkpoints/*.ckpt\")[0]\n",
    "    print(model_path)\n",
    "    model = FocalClassifier.load_from_checkpoint(model_path)\n",
    "    # train_results = pd.DataFrame()\n",
    "    # for train_patient in [patient for patient in patient_ids if patient != test_patient]:\n",
    "    #     train_patient_results = evaluate(model, train_patient, integration_windows=[300000, 600000, 900000], thresholds=np.round(np.arange(0.4, 0.7, 0.02),2), timer_duration=450000, detection_interval=60000)\n",
    "    #     train_patient_results[\"patient\"] = train_patient\n",
    "    #     train_results = pd.concat([train_results, train_patient_results])\n",
    "    # best_IoC = 0\n",
    "    # for i in train_results.index.unique():\n",
    "    #     integration_window, threshold = i.split(\"_\")\n",
    "    #     mean_IoC = train_results.loc[i, \"IoC\"].mean()\n",
    "    #     if mean_IoC > best_IoC:\n",
    "    #         best_integration_window = int(integration_window)\n",
    "    #         best_threshold = float(threshold)\n",
    "    # test_patient_results = evaluate(model, test_patient, integration_windows=[best_integration_window], thresholds=[best_threshold], timer_duration=450000, detection_interval=60000)\n",
    "    # test_patient_results = evaluate(model, test_patient, integration_windows=[300000, 600000, 900000], thresholds=np.round(np.arange(0.4, 0.7, 0.02),2), timer_duration=450000, detection_interval=60000)\n",
    "    test_patient_results = evaluate(model, test_patient, integration_windows=[600000], thresholds=[0.50], timer_duration=3600000, detection_interval=0)\n",
    "    test_patient_results[\"patient\"] = test_patient\n",
    "    test_results = pd.concat([test_results, test_patient_results])"
   ]
  },
  {
   "cell_type": "code",
   "execution_count": 14,
   "metadata": {},
   "outputs": [],
   "source": [
    "# test_results.to_csv(\"experiments/result_focal_loss_0.5.csv\")"
   ]
  },
  {
   "cell_type": "code",
   "execution_count": 78,
   "metadata": {},
   "outputs": [],
   "source": [
    "df = pd.read_csv(r\"experiments\\result_focal_loss_0.5.csv\")"
   ]
  },
  {
   "cell_type": "code",
   "execution_count": 79,
   "metadata": {},
   "outputs": [
    {
     "data": {
      "text/html": [
       "<div>\n",
       "<style scoped>\n",
       "    .dataframe tbody tr th:only-of-type {\n",
       "        vertical-align: middle;\n",
       "    }\n",
       "\n",
       "    .dataframe tbody tr th {\n",
       "        vertical-align: top;\n",
       "    }\n",
       "\n",
       "    .dataframe thead th {\n",
       "        text-align: right;\n",
       "    }\n",
       "</style>\n",
       "<table border=\"1\" class=\"dataframe\">\n",
       "  <thead>\n",
       "    <tr style=\"text-align: right;\">\n",
       "      <th></th>\n",
       "      <th>Unnamed: 0</th>\n",
       "      <th>Integration Window</th>\n",
       "      <th>threshold</th>\n",
       "      <th>n</th>\n",
       "      <th>N</th>\n",
       "      <th>S</th>\n",
       "      <th>Sc</th>\n",
       "      <th>TiW</th>\n",
       "      <th>IoC</th>\n",
       "      <th>p</th>\n",
       "      <th>patient</th>\n",
       "    </tr>\n",
       "  </thead>\n",
       "  <tbody>\n",
       "  </tbody>\n",
       "</table>\n",
       "</div>"
      ],
      "text/plain": [
       "Empty DataFrame\n",
       "Columns: [Unnamed: 0, Integration Window, threshold, n, N, S, Sc, TiW, IoC, p, patient]\n",
       "Index: []"
      ]
     },
     "execution_count": 79,
     "metadata": {},
     "output_type": "execute_result"
    }
   ],
   "source": [
    "df[df[\"p\"]<0.05]"
   ]
  },
  {
   "cell_type": "code",
   "execution_count": 80,
   "metadata": {},
   "outputs": [
    {
     "data": {
      "text/html": [
       "<div>\n",
       "<style scoped>\n",
       "    .dataframe tbody tr th:only-of-type {\n",
       "        vertical-align: middle;\n",
       "    }\n",
       "\n",
       "    .dataframe tbody tr th {\n",
       "        vertical-align: top;\n",
       "    }\n",
       "\n",
       "    .dataframe thead th {\n",
       "        text-align: right;\n",
       "    }\n",
       "</style>\n",
       "<table border=\"1\" class=\"dataframe\">\n",
       "  <thead>\n",
       "    <tr style=\"text-align: right;\">\n",
       "      <th></th>\n",
       "      <th>Unnamed: 0</th>\n",
       "      <th>Integration Window</th>\n",
       "      <th>threshold</th>\n",
       "      <th>n</th>\n",
       "      <th>N</th>\n",
       "      <th>S</th>\n",
       "      <th>Sc</th>\n",
       "      <th>TiW</th>\n",
       "      <th>IoC</th>\n",
       "      <th>p</th>\n",
       "      <th>patient</th>\n",
       "    </tr>\n",
       "  </thead>\n",
       "  <tbody>\n",
       "    <tr>\n",
       "      <th>0</th>\n",
       "      <td>600000_0.5</td>\n",
       "      <td>600000</td>\n",
       "      <td>0.5</td>\n",
       "      <td>0</td>\n",
       "      <td>3</td>\n",
       "      <td>0.0</td>\n",
       "      <td>0.0</td>\n",
       "      <td>0.0</td>\n",
       "      <td>0.0</td>\n",
       "      <td>100</td>\n",
       "      <td>MSEL_00095</td>\n",
       "    </tr>\n",
       "    <tr>\n",
       "      <th>1</th>\n",
       "      <td>600000_0.5</td>\n",
       "      <td>600000</td>\n",
       "      <td>0.5</td>\n",
       "      <td>0</td>\n",
       "      <td>10</td>\n",
       "      <td>0.0</td>\n",
       "      <td>0.0</td>\n",
       "      <td>0.0</td>\n",
       "      <td>0.0</td>\n",
       "      <td>100</td>\n",
       "      <td>MSEL_00172</td>\n",
       "    </tr>\n",
       "    <tr>\n",
       "      <th>2</th>\n",
       "      <td>600000_0.5</td>\n",
       "      <td>600000</td>\n",
       "      <td>0.5</td>\n",
       "      <td>0</td>\n",
       "      <td>4</td>\n",
       "      <td>0.0</td>\n",
       "      <td>0.0</td>\n",
       "      <td>0.0</td>\n",
       "      <td>0.0</td>\n",
       "      <td>100</td>\n",
       "      <td>MSEL_00182</td>\n",
       "    </tr>\n",
       "    <tr>\n",
       "      <th>3</th>\n",
       "      <td>600000_0.5</td>\n",
       "      <td>600000</td>\n",
       "      <td>0.5</td>\n",
       "      <td>0</td>\n",
       "      <td>1</td>\n",
       "      <td>0.0</td>\n",
       "      <td>0.0</td>\n",
       "      <td>0.0</td>\n",
       "      <td>0.0</td>\n",
       "      <td>100</td>\n",
       "      <td>MSEL_00501</td>\n",
       "    </tr>\n",
       "    <tr>\n",
       "      <th>4</th>\n",
       "      <td>600000_0.5</td>\n",
       "      <td>600000</td>\n",
       "      <td>0.5</td>\n",
       "      <td>0</td>\n",
       "      <td>6</td>\n",
       "      <td>0.0</td>\n",
       "      <td>0.0</td>\n",
       "      <td>0.0</td>\n",
       "      <td>0.0</td>\n",
       "      <td>100</td>\n",
       "      <td>MSEL_00502</td>\n",
       "    </tr>\n",
       "    <tr>\n",
       "      <th>5</th>\n",
       "      <td>600000_0.5</td>\n",
       "      <td>600000</td>\n",
       "      <td>0.5</td>\n",
       "      <td>0</td>\n",
       "      <td>4</td>\n",
       "      <td>0.0</td>\n",
       "      <td>0.0</td>\n",
       "      <td>0.0</td>\n",
       "      <td>0.0</td>\n",
       "      <td>100</td>\n",
       "      <td>MSEL_00764</td>\n",
       "    </tr>\n",
       "    <tr>\n",
       "      <th>6</th>\n",
       "      <td>600000_0.5</td>\n",
       "      <td>600000</td>\n",
       "      <td>0.5</td>\n",
       "      <td>0</td>\n",
       "      <td>2</td>\n",
       "      <td>0.0</td>\n",
       "      <td>0.0</td>\n",
       "      <td>0.0</td>\n",
       "      <td>0.0</td>\n",
       "      <td>100</td>\n",
       "      <td>MSEL_01097</td>\n",
       "    </tr>\n",
       "    <tr>\n",
       "      <th>7</th>\n",
       "      <td>600000_0.5</td>\n",
       "      <td>600000</td>\n",
       "      <td>0.5</td>\n",
       "      <td>0</td>\n",
       "      <td>9</td>\n",
       "      <td>0.0</td>\n",
       "      <td>0.0</td>\n",
       "      <td>0.0</td>\n",
       "      <td>0.0</td>\n",
       "      <td>100</td>\n",
       "      <td>MSEL_01110-ICU</td>\n",
       "    </tr>\n",
       "    <tr>\n",
       "      <th>8</th>\n",
       "      <td>600000_0.5</td>\n",
       "      <td>600000</td>\n",
       "      <td>0.5</td>\n",
       "      <td>0</td>\n",
       "      <td>3</td>\n",
       "      <td>0.0</td>\n",
       "      <td>0.0</td>\n",
       "      <td>0.0</td>\n",
       "      <td>0.0</td>\n",
       "      <td>100</td>\n",
       "      <td>MSEL_01462</td>\n",
       "    </tr>\n",
       "    <tr>\n",
       "      <th>9</th>\n",
       "      <td>600000_0.5</td>\n",
       "      <td>600000</td>\n",
       "      <td>0.5</td>\n",
       "      <td>0</td>\n",
       "      <td>5</td>\n",
       "      <td>0.0</td>\n",
       "      <td>0.0</td>\n",
       "      <td>0.0</td>\n",
       "      <td>0.0</td>\n",
       "      <td>100</td>\n",
       "      <td>MSEL_01550</td>\n",
       "    </tr>\n",
       "    <tr>\n",
       "      <th>10</th>\n",
       "      <td>600000_0.5</td>\n",
       "      <td>600000</td>\n",
       "      <td>0.5</td>\n",
       "      <td>0</td>\n",
       "      <td>81</td>\n",
       "      <td>0.0</td>\n",
       "      <td>0.0</td>\n",
       "      <td>0.0</td>\n",
       "      <td>0.0</td>\n",
       "      <td>100</td>\n",
       "      <td>MSEL_01575</td>\n",
       "    </tr>\n",
       "    <tr>\n",
       "      <th>11</th>\n",
       "      <td>600000_0.5</td>\n",
       "      <td>600000</td>\n",
       "      <td>0.5</td>\n",
       "      <td>0</td>\n",
       "      <td>9</td>\n",
       "      <td>0.0</td>\n",
       "      <td>0.0</td>\n",
       "      <td>0.0</td>\n",
       "      <td>0.0</td>\n",
       "      <td>100</td>\n",
       "      <td>MSEL_01676</td>\n",
       "    </tr>\n",
       "    <tr>\n",
       "      <th>12</th>\n",
       "      <td>600000_0.5</td>\n",
       "      <td>600000</td>\n",
       "      <td>0.5</td>\n",
       "      <td>0</td>\n",
       "      <td>6</td>\n",
       "      <td>0.0</td>\n",
       "      <td>0.0</td>\n",
       "      <td>0.0</td>\n",
       "      <td>0.0</td>\n",
       "      <td>100</td>\n",
       "      <td>MSEL_01709</td>\n",
       "    </tr>\n",
       "    <tr>\n",
       "      <th>13</th>\n",
       "      <td>600000_0.5</td>\n",
       "      <td>600000</td>\n",
       "      <td>0.5</td>\n",
       "      <td>0</td>\n",
       "      <td>29</td>\n",
       "      <td>0.0</td>\n",
       "      <td>0.0</td>\n",
       "      <td>0.0</td>\n",
       "      <td>0.0</td>\n",
       "      <td>100</td>\n",
       "      <td>MSEL_01763</td>\n",
       "    </tr>\n",
       "    <tr>\n",
       "      <th>14</th>\n",
       "      <td>600000_0.5</td>\n",
       "      <td>600000</td>\n",
       "      <td>0.5</td>\n",
       "      <td>0</td>\n",
       "      <td>8</td>\n",
       "      <td>0.0</td>\n",
       "      <td>0.0</td>\n",
       "      <td>0.0</td>\n",
       "      <td>0.0</td>\n",
       "      <td>100</td>\n",
       "      <td>MSEL_01808</td>\n",
       "    </tr>\n",
       "    <tr>\n",
       "      <th>15</th>\n",
       "      <td>600000_0.5</td>\n",
       "      <td>600000</td>\n",
       "      <td>0.5</td>\n",
       "      <td>0</td>\n",
       "      <td>1</td>\n",
       "      <td>0.0</td>\n",
       "      <td>0.0</td>\n",
       "      <td>0.0</td>\n",
       "      <td>0.0</td>\n",
       "      <td>100</td>\n",
       "      <td>MSEL_01828</td>\n",
       "    </tr>\n",
       "    <tr>\n",
       "      <th>16</th>\n",
       "      <td>600000_0.5</td>\n",
       "      <td>600000</td>\n",
       "      <td>0.5</td>\n",
       "      <td>0</td>\n",
       "      <td>4</td>\n",
       "      <td>0.0</td>\n",
       "      <td>0.0</td>\n",
       "      <td>0.0</td>\n",
       "      <td>0.0</td>\n",
       "      <td>100</td>\n",
       "      <td>MSEL_01832</td>\n",
       "    </tr>\n",
       "    <tr>\n",
       "      <th>17</th>\n",
       "      <td>600000_0.5</td>\n",
       "      <td>600000</td>\n",
       "      <td>0.5</td>\n",
       "      <td>0</td>\n",
       "      <td>3</td>\n",
       "      <td>0.0</td>\n",
       "      <td>0.0</td>\n",
       "      <td>0.0</td>\n",
       "      <td>0.0</td>\n",
       "      <td>100</td>\n",
       "      <td>MSEL_01838</td>\n",
       "    </tr>\n",
       "    <tr>\n",
       "      <th>18</th>\n",
       "      <td>600000_0.5</td>\n",
       "      <td>600000</td>\n",
       "      <td>0.5</td>\n",
       "      <td>0</td>\n",
       "      <td>2</td>\n",
       "      <td>0.0</td>\n",
       "      <td>0.0</td>\n",
       "      <td>0.0</td>\n",
       "      <td>0.0</td>\n",
       "      <td>100</td>\n",
       "      <td>MSEL_01842</td>\n",
       "    </tr>\n",
       "    <tr>\n",
       "      <th>19</th>\n",
       "      <td>600000_0.5</td>\n",
       "      <td>600000</td>\n",
       "      <td>0.5</td>\n",
       "      <td>0</td>\n",
       "      <td>2</td>\n",
       "      <td>0.0</td>\n",
       "      <td>0.0</td>\n",
       "      <td>0.0</td>\n",
       "      <td>0.0</td>\n",
       "      <td>100</td>\n",
       "      <td>MSEL_01844</td>\n",
       "    </tr>\n",
       "    <tr>\n",
       "      <th>20</th>\n",
       "      <td>600000_0.5</td>\n",
       "      <td>600000</td>\n",
       "      <td>0.5</td>\n",
       "      <td>0</td>\n",
       "      <td>1</td>\n",
       "      <td>0.0</td>\n",
       "      <td>0.0</td>\n",
       "      <td>0.0</td>\n",
       "      <td>0.0</td>\n",
       "      <td>100</td>\n",
       "      <td>MSEL_01849</td>\n",
       "    </tr>\n",
       "    <tr>\n",
       "      <th>21</th>\n",
       "      <td>600000_0.5</td>\n",
       "      <td>600000</td>\n",
       "      <td>0.5</td>\n",
       "      <td>0</td>\n",
       "      <td>13</td>\n",
       "      <td>0.0</td>\n",
       "      <td>0.0</td>\n",
       "      <td>0.0</td>\n",
       "      <td>0.0</td>\n",
       "      <td>100</td>\n",
       "      <td>MSEL_01853</td>\n",
       "    </tr>\n",
       "    <tr>\n",
       "      <th>22</th>\n",
       "      <td>600000_0.5</td>\n",
       "      <td>600000</td>\n",
       "      <td>0.5</td>\n",
       "      <td>0</td>\n",
       "      <td>2</td>\n",
       "      <td>0.0</td>\n",
       "      <td>0.0</td>\n",
       "      <td>0.0</td>\n",
       "      <td>0.0</td>\n",
       "      <td>100</td>\n",
       "      <td>MSEL_01870</td>\n",
       "    </tr>\n",
       "  </tbody>\n",
       "</table>\n",
       "</div>"
      ],
      "text/plain": [
       "    Unnamed: 0  Integration Window  threshold  n   N    S   Sc  TiW  IoC    p  \\\n",
       "0   600000_0.5              600000        0.5  0   3  0.0  0.0  0.0  0.0  100   \n",
       "1   600000_0.5              600000        0.5  0  10  0.0  0.0  0.0  0.0  100   \n",
       "2   600000_0.5              600000        0.5  0   4  0.0  0.0  0.0  0.0  100   \n",
       "3   600000_0.5              600000        0.5  0   1  0.0  0.0  0.0  0.0  100   \n",
       "4   600000_0.5              600000        0.5  0   6  0.0  0.0  0.0  0.0  100   \n",
       "5   600000_0.5              600000        0.5  0   4  0.0  0.0  0.0  0.0  100   \n",
       "6   600000_0.5              600000        0.5  0   2  0.0  0.0  0.0  0.0  100   \n",
       "7   600000_0.5              600000        0.5  0   9  0.0  0.0  0.0  0.0  100   \n",
       "8   600000_0.5              600000        0.5  0   3  0.0  0.0  0.0  0.0  100   \n",
       "9   600000_0.5              600000        0.5  0   5  0.0  0.0  0.0  0.0  100   \n",
       "10  600000_0.5              600000        0.5  0  81  0.0  0.0  0.0  0.0  100   \n",
       "11  600000_0.5              600000        0.5  0   9  0.0  0.0  0.0  0.0  100   \n",
       "12  600000_0.5              600000        0.5  0   6  0.0  0.0  0.0  0.0  100   \n",
       "13  600000_0.5              600000        0.5  0  29  0.0  0.0  0.0  0.0  100   \n",
       "14  600000_0.5              600000        0.5  0   8  0.0  0.0  0.0  0.0  100   \n",
       "15  600000_0.5              600000        0.5  0   1  0.0  0.0  0.0  0.0  100   \n",
       "16  600000_0.5              600000        0.5  0   4  0.0  0.0  0.0  0.0  100   \n",
       "17  600000_0.5              600000        0.5  0   3  0.0  0.0  0.0  0.0  100   \n",
       "18  600000_0.5              600000        0.5  0   2  0.0  0.0  0.0  0.0  100   \n",
       "19  600000_0.5              600000        0.5  0   2  0.0  0.0  0.0  0.0  100   \n",
       "20  600000_0.5              600000        0.5  0   1  0.0  0.0  0.0  0.0  100   \n",
       "21  600000_0.5              600000        0.5  0  13  0.0  0.0  0.0  0.0  100   \n",
       "22  600000_0.5              600000        0.5  0   2  0.0  0.0  0.0  0.0  100   \n",
       "\n",
       "           patient  \n",
       "0       MSEL_00095  \n",
       "1       MSEL_00172  \n",
       "2       MSEL_00182  \n",
       "3       MSEL_00501  \n",
       "4       MSEL_00502  \n",
       "5       MSEL_00764  \n",
       "6       MSEL_01097  \n",
       "7   MSEL_01110-ICU  \n",
       "8       MSEL_01462  \n",
       "9       MSEL_01550  \n",
       "10      MSEL_01575  \n",
       "11      MSEL_01676  \n",
       "12      MSEL_01709  \n",
       "13      MSEL_01763  \n",
       "14      MSEL_01808  \n",
       "15      MSEL_01828  \n",
       "16      MSEL_01832  \n",
       "17      MSEL_01838  \n",
       "18      MSEL_01842  \n",
       "19      MSEL_01844  \n",
       "20      MSEL_01849  \n",
       "21      MSEL_01853  \n",
       "22      MSEL_01870  "
      ]
     },
     "execution_count": 80,
     "metadata": {},
     "output_type": "execute_result"
    }
   ],
   "source": [
    "df"
   ]
  },
  {
   "cell_type": "code",
   "execution_count": 4,
   "metadata": {},
   "outputs": [],
   "source": [
    "interictal_data = torch.load(\"data/interictal.pt\")\n",
    "preictal_data = torch.load(\"data/preictal.pt\")\n",
    "patient_ids = list(interictal_data.keys())"
   ]
  },
  {
   "cell_type": "code",
   "execution_count": 5,
   "metadata": {},
   "outputs": [
    {
     "name": "stdout",
     "output_type": "stream",
     "text": [
      "tensor(0.3624, grad_fn=<MaxBackward1>)\n",
      "tensor(0.3636, grad_fn=<MaxBackward1>)\n",
      "tensor(0.3703, grad_fn=<MaxBackward1>)\n",
      "tensor(0.3503, grad_fn=<MaxBackward1>)\n",
      "tensor(0.3723, grad_fn=<MaxBackward1>)\n",
      "tensor(0.3744, grad_fn=<MaxBackward1>)\n",
      "tensor(0.4009, grad_fn=<MaxBackward1>)\n",
      "tensor(0.3471, grad_fn=<MaxBackward1>)\n",
      "tensor(0.3846, grad_fn=<MaxBackward1>)\n",
      "tensor(0.4298, grad_fn=<MaxBackward1>)\n",
      "tensor(0.3858, grad_fn=<MaxBackward1>)\n",
      "tensor(0.3871, grad_fn=<MaxBackward1>)\n",
      "tensor(0.3613, grad_fn=<MaxBackward1>)\n",
      "tensor(0.3731, grad_fn=<MaxBackward1>)\n",
      "tensor(0.3989, grad_fn=<MaxBackward1>)\n",
      "tensor(0.3765, grad_fn=<MaxBackward1>)\n",
      "tensor(0.3946, grad_fn=<MaxBackward1>)\n",
      "tensor(0.3861, grad_fn=<MaxBackward1>)\n",
      "tensor(0.3834, grad_fn=<MaxBackward1>)\n",
      "tensor(0.3600, grad_fn=<MaxBackward1>)\n",
      "tensor(0.3739, grad_fn=<MaxBackward1>)\n",
      "tensor(0.3758, grad_fn=<MaxBackward1>)\n",
      "tensor(0.3839, grad_fn=<MaxBackward1>)\n"
     ]
    }
   ],
   "source": [
    "for test_patient in patient_ids:\n",
    "    from models import FocalClassifier\n",
    "    model_path = glob(f\"experiments/focal_loss/meisel/{test_patient}/version_0/checkpoints/*.ckpt\")[0]\n",
    "    # print(model_path)\n",
    "    model = FocalClassifier.load_from_checkpoint(model_path)\n",
    "    segments = torch.load(f\"data/test/{test_patient}_test_segments.pt\")\n",
    "    pred = model(segments)\n",
    "    print(pred.max())"
   ]
  },
  {
   "cell_type": "code",
   "execution_count": 6,
   "metadata": {},
   "outputs": [
    {
     "ename": "ModuleNotFoundError",
     "evalue": "No module named 'torchviz'",
     "output_type": "error",
     "traceback": [
      "\u001b[1;31m---------------------------------------------------------------------------\u001b[0m",
      "\u001b[1;31mModuleNotFoundError\u001b[0m                       Traceback (most recent call last)",
      "\u001b[1;32m<ipython-input-6-bedf371e949f>\u001b[0m in \u001b[0;36m<module>\u001b[1;34m\u001b[0m\n\u001b[1;32m----> 1\u001b[1;33m \u001b[1;32mimport\u001b[0m \u001b[0mtorchviz\u001b[0m\u001b[1;33m\u001b[0m\u001b[1;33m\u001b[0m\u001b[0m\n\u001b[0m",
      "\u001b[1;31mModuleNotFoundError\u001b[0m: No module named 'torchviz'"
     ]
    }
   ],
   "source": [
    "import torchviz"
   ]
  },
  {
   "cell_type": "code",
   "execution_count": 72,
   "metadata": {},
   "outputs": [
    {
     "data": {
      "text/plain": [
       "tensor(0.0739)"
      ]
     },
     "execution_count": 72,
     "metadata": {},
     "output_type": "execute_result"
    }
   ],
   "source": [
    "(pred > 0.5).sum()/len(pred)"
   ]
  },
  {
   "cell_type": "code",
   "execution_count": 85,
   "metadata": {},
   "outputs": [
    {
     "data": {
      "text/plain": [
       "tensor(0.4009, grad_fn=<MaxBackward1>)"
      ]
     },
     "execution_count": 85,
     "metadata": {},
     "output_type": "execute_result"
    }
   ],
   "source": []
  },
  {
   "cell_type": "code",
   "execution_count": 74,
   "metadata": {},
   "outputs": [
    {
     "data": {
      "text/plain": [
       "67.95"
      ]
     },
     "execution_count": 74,
     "metadata": {},
     "output_type": "execute_result"
    }
   ],
   "source": [
    "8154*0.5/60"
   ]
  },
  {
   "cell_type": "code",
   "execution_count": 75,
   "metadata": {},
   "outputs": [],
   "source": [
    "x = torch.load(\"data\\interictal.pt\")[test_patient]\n",
    "y = torch.load(\"data\\preictal.pt\")[test_patient]"
   ]
  },
  {
   "cell_type": "code",
   "execution_count": 76,
   "metadata": {},
   "outputs": [
    {
     "data": {
      "text/plain": [
       "tensor(0.5214, grad_fn=<RsubBackward1>)"
      ]
     },
     "execution_count": 76,
     "metadata": {},
     "output_type": "execute_result"
    }
   ],
   "source": [
    "1 - model(x).sum()/len(x)"
   ]
  },
  {
   "cell_type": "code",
   "execution_count": 77,
   "metadata": {},
   "outputs": [
    {
     "data": {
      "text/plain": [
       "tensor(0.4929, grad_fn=<DivBackward0>)"
      ]
     },
     "execution_count": 77,
     "metadata": {},
     "output_type": "execute_result"
    }
   ],
   "source": [
    "model(y).sum()/len(y)"
   ]
  },
  {
   "cell_type": "code",
   "execution_count": null,
   "metadata": {},
   "outputs": [],
   "source": []
  }
 ],
 "metadata": {
  "interpreter": {
   "hash": "38c3778fb65eae4f20aedf3082c4df54eca5849188701ff3fc6acd2b6ef40ace"
  },
  "kernelspec": {
   "display_name": "Python 3.9.5 64-bit ('torch': conda)",
   "name": "python3"
  },
  "language_info": {
   "codemirror_mode": {
    "name": "ipython",
    "version": 3
   },
   "file_extension": ".py",
   "mimetype": "text/x-python",
   "name": "python",
   "nbconvert_exporter": "python",
   "pygments_lexer": "ipython3",
   "version": "3.9.5"
  },
  "orig_nbformat": 4
 },
 "nbformat": 4,
 "nbformat_minor": 2
}
