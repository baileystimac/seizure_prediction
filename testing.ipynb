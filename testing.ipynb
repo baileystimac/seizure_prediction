{
 "cells": [
  {
   "cell_type": "code",
   "execution_count": 1,
   "metadata": {},
   "outputs": [],
   "source": [
    "import torch\n",
    "import json\n",
    "import pandas as pd\n",
    "\n",
    "from scipy.signal import decimate\n",
    "from math import ceil, floor, log, exp\n",
    "import json\n",
    "from scipy.stats import binom\n",
    "from tqdm import tqdm"
   ]
  },
  {
   "cell_type": "markdown",
   "metadata": {},
   "source": [
    "# Extracting all Seizure Info"
   ]
  },
  {
   "cell_type": "code",
   "execution_count": 2,
   "metadata": {},
   "outputs": [],
   "source": [
    "# Hack to get patient IDs\n",
    "patient_ids = list(torch.load(\"data/interictal.pt\").keys())"
   ]
  },
  {
   "cell_type": "code",
   "execution_count": 12,
   "metadata": {},
   "outputs": [],
   "source": [
    "seizure_info = pd.DataFrame(columns=[\"patient_id\", \"start_time\", \"end_time\", \"note\"])\n",
    "for patient_id in patient_ids:\n",
    "    # Load the annotation for the patients recording\n",
    "    labels = pd.read_csv(f\"data\\data\\{patient_id}\\{patient_id}_labels.csv\")\n",
    "\n",
    "    # Remove the first and last hour of recording\n",
    "    first_hour_indexes = labels[\"labels.startTime\"] - labels[\"startTime\"]<= 3600000\n",
    "    last_hour_indexes = labels[\"labels.startTime\"] - labels[\"startTime\"] >= labels[\"duration\"] - 3600000\n",
    "    labels = labels[~first_hour_indexes&~last_hour_indexes]\n",
    "\n",
    "    # Remove subclinical events from labels\n",
    "    with open(\"labels.json\") as f:\n",
    "        label_notes = json.load(f)\n",
    "\n",
    "    seizure_indexes = [label_notes[note]==1 for note in labels[\"labels.note\"].values]\n",
    "    labels = labels[seizure_indexes]\n",
    "\n",
    "    # Add patient's seizures to seizure data\n",
    "    previous_seizure_time = 0\n",
    "    for i in labels.index:\n",
    "        start_time = labels.loc[i, \"labels.startTime\"] - labels.loc[i, \"startTime\"]\n",
    "        end_time = start_time + labels.loc[i, \"labels.duration\"]\n",
    "        note = labels.loc[i, \"labels.note\"]\n",
    "        is_lead_seizure = (start_time > previous_seizure_time + 7200000)\n",
    "        seizure_info = seizure_info.append({\"patient_id\": patient_id, \"start_time\": start_time, \"end_time\": end_time, \"note\": note, \"is_lead_seizure\": is_lead_seizure}, ignore_index=True)\n",
    "        previous_seizure_time = end_time\n",
    "seizure_info = seizure_info.drop_duplicates()\n",
    "seizure_info.to_csv(\"data/seizures.csv\")"
   ]
  },
  {
   "cell_type": "markdown",
   "metadata": {},
   "source": [
    "# Writing Test Segments for each patient"
   ]
  },
  {
   "cell_type": "code",
   "execution_count": 3,
   "metadata": {},
   "outputs": [
    {
     "name": "stderr",
     "output_type": "stream",
     "text": [
      "  0%|          | 0/23 [00:00<?, ?it/s]C:\\Users\\Bailey\\anaconda3\\envs\\torch\\lib\\site-packages\\pandas\\core\\series.py:4463: SettingWithCopyWarning: \n",
      "A value is trying to be set on a copy of a slice from a DataFrame\n",
      "\n",
      "See the caveats in the documentation: https://pandas.pydata.org/pandas-docs/stable/user_guide/indexing.html#returning-a-view-versus-a-copy\n",
      "  return super().fillna(\n",
      "<ipython-input-3-91f3c2b663fc>:14: SettingWithCopyWarning: \n",
      "A value is trying to be set on a copy of a slice from a DataFrame.\n",
      "Try using .loc[row_indexer,col_indexer] = value instead\n",
      "\n",
      "See the caveats in the documentation: https://pandas.pydata.org/pandas-docs/stable/user_guide/indexing.html#returning-a-view-versus-a-copy\n",
      "  segment_data[channel] = 0.5\n",
      "100%|██████████| 23/23 [08:13<00:00, 21.45s/it]\n"
     ]
    }
   ],
   "source": [
    "for test_patient in patient_ids:\n",
    "    test_data = pd.read_parquet(f\"data\\{test_patient}_128Hz_scaled.parquet\")\n",
    "    test_data = test_data.iloc[460800:-460800]\n",
    "    \n",
    "    patient_segments = []\n",
    "    segment_times = []\n",
    "    max_time = test_data.index[-1]\n",
    "    segment_start = 3600000.0\n",
    "    segment_end = segment_start + 29992.1875\n",
    "    while segment_end < max_time:\n",
    "        segment_data = test_data[segment_start:segment_end]\n",
    "        for channel in segment_data.columns[segment_data.isna().any(axis=0)]:\n",
    "            if segment_data[channel].isna().all():\n",
    "                segment_data[channel] = 0.5\n",
    "            else:\n",
    "                segment_data[channel].fillna(segment_data[channel].mean(), inplace=True)\n",
    "        \n",
    "        downsampled = decimate(segment_data, q=8, axis=0)\n",
    "        downsampled = decimate(downsampled, q=4, axis=0)\n",
    "\n",
    "        patient_segments.append(downsampled)\n",
    "        segment_times.append(segment_start+30000)\n",
    "\n",
    "        segment_start += 30000\n",
    "        segment_end = segment_start + 29992.1875\n",
    "    segments_tensor = torch.Tensor(patient_segments)\n",
    "\n",
    "    torch.save(segments_tensor, f\"data/test/{test_patient}_test_segments.pt\")"
   ]
  }
 ],
 "metadata": {
  "interpreter": {
   "hash": "38c3778fb65eae4f20aedf3082c4df54eca5849188701ff3fc6acd2b6ef40ace"
  },
  "kernelspec": {
   "display_name": "Python 3.9.5 64-bit ('torch': conda)",
   "name": "python3"
  },
  "language_info": {
   "codemirror_mode": {
    "name": "ipython",
    "version": 3
   },
   "file_extension": ".py",
   "mimetype": "text/x-python",
   "name": "python",
   "nbconvert_exporter": "python",
   "pygments_lexer": "ipython3",
   "version": "3.9.5"
  },
  "orig_nbformat": 4
 },
 "nbformat": 4,
 "nbformat_minor": 2
}
