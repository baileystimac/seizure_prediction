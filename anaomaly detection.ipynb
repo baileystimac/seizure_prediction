{
 "cells": [
  {
   "cell_type": "code",
   "execution_count": 1,
   "metadata": {},
   "outputs": [],
   "source": [
    "import torch\n",
    "import pytorch_lightning as pl\n",
    "import pandas as pd\n",
    "import numpy as np\n",
    "from glob import glob\n",
    "from torch.utils.data import TensorDataset, DataLoader, Subset\n",
    "from pytorch_lightning import loggers as pl_loggers\n",
    "from models import FocalClassifier\n",
    "from evaluation import evaluate\n",
    "from torch import nn\n",
    "from sklearn.model_selection import train_test_split"
   ]
  },
  {
   "cell_type": "code",
   "execution_count": 2,
   "metadata": {},
   "outputs": [],
   "source": [
    "import warnings\n",
    "warnings.filterwarnings('ignore')"
   ]
  },
  {
   "cell_type": "code",
   "execution_count": 3,
   "metadata": {},
   "outputs": [
    {
     "name": "stdout",
     "output_type": "stream",
     "text": [
      "Using cuda device\n"
     ]
    }
   ],
   "source": [
    "device = 'cuda' if torch.cuda.is_available() else 'cpu'\n",
    "print('Using {} device'.format(device))"
   ]
  },
  {
   "cell_type": "code",
   "execution_count": 4,
   "metadata": {},
   "outputs": [],
   "source": [
    "interictal_data = torch.load(\"data/interictal.pt\")\n",
    "preictal_data = torch.load(\"data/preictal.pt\")"
   ]
  },
  {
   "cell_type": "code",
   "execution_count": 5,
   "metadata": {},
   "outputs": [],
   "source": [
    "patient_ids = list(interictal_data.keys())\n",
    "test_patient = patient_ids[0]"
   ]
  },
  {
   "cell_type": "code",
   "execution_count": 6,
   "metadata": {},
   "outputs": [],
   "source": [
    "train_segments = torch.cat([patient_data for patient_id, patient_data in interictal_data.items() if patient_id!=test_patient])"
   ]
  },
  {
   "cell_type": "code",
   "execution_count": 7,
   "metadata": {},
   "outputs": [],
   "source": [
    "class EncoderLSTM(nn.Module):\n",
    "    def __init__(self, input_size=6, hidden_size=100, output_size=100):\n",
    "        super().__init__()\n",
    "        self.lstm_1 = nn.LSTM(input_size=input_size, hidden_size=hidden_size, batch_first=True)\n",
    "        self.lstm_2 = nn.LSTM(input_size=hidden_size, hidden_size=output_size, batch_first=True)\n",
    "\n",
    "        self.input_size = input_size\n",
    "        self.hidden_size = hidden_size\n",
    "        self.output_size = output_size\n",
    "\n",
    "    def forward(self, x):\n",
    "        N, L, H = x.shape\n",
    "        x, (_, _) = self.lstm_1(x)\n",
    "        _, (h_n, _) = self.lstm_2(x)\n",
    "        return h_n.reshape((N, 1, self.output_size))\n",
    "\n",
    "class DecoderLSTM(nn.Module):\n",
    "    def __init__(self, seq_length=120, input_size=100, hidden_size=100, output_size=6):\n",
    "        super().__init__()\n",
    "        self.lstm_1 = nn.LSTM(input_size=input_size, hidden_size=hidden_size, batch_first=True)\n",
    "        self.lstm_2 = nn.LSTM(input_size=hidden_size, hidden_size=hidden_size, batch_first=True)\n",
    "        self.output_layer = nn.Linear(in_features=hidden_size, out_features=output_size)\n",
    "        \n",
    "\n",
    "        self.seq_length = seq_length\n",
    "        self.input_size = input_size\n",
    "        self.hidden_size = hidden_size\n",
    "        self.output_size = output_size\n",
    "\n",
    "    def forward(self, x):\n",
    "        N, L, H = x.shape\n",
    "        self.h_n, self.c_n = torch.zeros([1, N, self.hidden_size]).to(device), torch.zeros([1, N, self.hidden_size]).to(device)\n",
    "        output = torch.zeros([N, self.seq_length, self.hidden_size]).to(device)\n",
    "        for i in range(self.seq_length):\n",
    "            x, (self.h_n, self.c_n) = self.lstm_1(x, (self.h_n, self.c_n))\n",
    "            output[:, i, :] = x.squeeze()\n",
    "        output = self.output_layer(output)\n",
    "        return output\n",
    "\n",
    "class AnomalyDetector(pl.LightningModule):\n",
    "    def __init__(self, seq_length=120, input_size=6, hidden_size=100, encoder_output_size=100, lr=1e-3):\n",
    "        super().__init__()\n",
    "        self.seq_length = seq_length\n",
    "        self.input_size = input_size\n",
    "        self.hidden_size = hidden_size\n",
    "        self.encoder_output_size = encoder_output_size\n",
    "    \n",
    "        self.encoder = EncoderLSTM(input_size=input_size, hidden_size=hidden_size, output_size=encoder_output_size)\n",
    "        self.decoder = DecoderLSTM(seq_length=seq_length, input_size=encoder_output_size, hidden_size=hidden_size, output_size=input_size)\n",
    "\n",
    "        self.lr = 1e-3\n",
    "        self.loss = nn.L1Loss()\n",
    "        self.example_input_array = torch.rand((1, 120, 6))\n",
    "\n",
    "    def forward(self, x):\n",
    "        encoded = self.encoder(x)\n",
    "        decoded = self.decoder(encoded)\n",
    "        return (encoded, decoded)\n",
    "    \n",
    "    def training_step(self, batch, batch_idx):\n",
    "        X = batch[0]\n",
    "        encoded, decoded = self(X)\n",
    "        loss = self.loss(decoded, X)\n",
    "        self.log(\"Training Loss\", loss)\n",
    "        return loss\n",
    "\n",
    "    def validation_step(self, batch, batch_idx):\n",
    "        X = batch[0]\n",
    "        encoded, decoded = self(X)\n",
    "        loss = self.loss(decoded, X)\n",
    "        self.log(\"Validation Loss\", loss)\n",
    "        return loss\n",
    "\n",
    "    def configure_optimizers(self):\n",
    "        optimizer = torch.optim.Adam(self.parameters(), lr=self.lr)\n",
    "        lr_scheduler = torch.optim.lr_scheduler.ExponentialLR(optimizer, 0.99)\n",
    "        return {\"optimizer\":optimizer, \"lr_scheduler\":lr_scheduler} "
   ]
  },
  {
   "cell_type": "code",
   "execution_count": 8,
   "metadata": {},
   "outputs": [
    {
     "name": "stderr",
     "output_type": "stream",
     "text": [
      "GPU available: True, used: True\n",
      "TPU available: False, using: 0 TPU cores\n",
      "IPU available: False, using: 0 IPUs\n",
      "LOCAL_RANK: 0 - CUDA_VISIBLE_DEVICES: [0]\n",
      "\n",
      "  | Name    | Type        | Params | In sizes    | Out sizes  \n",
      "--------------------------------------------------------------------\n",
      "0 | encoder | EncoderLSTM | 124 K  | [1, 120, 6] | [1, 1, 100]\n",
      "1 | decoder | DecoderLSTM | 162 K  | [1, 1, 100] | [1, 120, 6]\n",
      "2 | loss    | L1Loss      | 0      | ?           | ?          \n",
      "--------------------------------------------------------------------\n",
      "286 K     Trainable params\n",
      "0         Non-trainable params\n",
      "286 K     Total params\n",
      "1.145     Total estimated model params size (MB)\n"
     ]
    },
    {
     "name": "stdout",
     "output_type": "stream",
     "text": [
      "Epoch 1:   5%|▌         | 41/815 [00:04<01:22,  9.37it/s, loss=0.0742, v_num=7]"
     ]
    }
   ],
   "source": [
    "dataset = TensorDataset(train_segments)\n",
    "train_idx, val_idx = train_test_split(list(range(len(dataset))), test_size=0.1)\n",
    "train_dataset = Subset(dataset, train_idx)\n",
    "val_dataset = Subset(dataset, val_idx)\n",
    "train_dataloader = DataLoader(train_dataset, batch_size=256, shuffle=True)\n",
    "val_dataloader = DataLoader(val_dataset, batch_size=256, shuffle=False)\n",
    "\n",
    "model = AnomalyDetector()\n",
    "tb_logger = pl_loggers.TensorBoardLogger(\"experiments/anomaly_detection\")\n",
    "trainer = pl.Trainer(gpus=1, max_epochs=200, logger=tb_logger)\n",
    "trainer.fit(model, train_dataloader, val_dataloader)"
   ]
  },
  {
   "cell_type": "code",
   "execution_count": null,
   "metadata": {},
   "outputs": [
    {
     "data": {
      "text/plain": [
       "34975"
      ]
     },
     "execution_count": 11,
     "metadata": {},
     "output_type": "execute_result"
    }
   ],
   "source": [
    "np.random.choice(range(len(train_segments)), )"
   ]
  },
  {
   "cell_type": "code",
   "execution_count": null,
   "metadata": {},
   "outputs": [],
   "source": []
  }
 ],
 "metadata": {
  "interpreter": {
   "hash": "38c3778fb65eae4f20aedf3082c4df54eca5849188701ff3fc6acd2b6ef40ace"
  },
  "kernelspec": {
   "display_name": "Python 3.9.5 64-bit ('torch': conda)",
   "name": "python3"
  },
  "language_info": {
   "codemirror_mode": {
    "name": "ipython",
    "version": 3
   },
   "file_extension": ".py",
   "mimetype": "text/x-python",
   "name": "python",
   "nbconvert_exporter": "python",
   "pygments_lexer": "ipython3",
   "version": "3.9.5"
  },
  "orig_nbformat": 4
 },
 "nbformat": 4,
 "nbformat_minor": 2
}
