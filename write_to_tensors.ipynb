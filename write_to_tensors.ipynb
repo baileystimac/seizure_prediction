{
 "cells": [
  {
   "cell_type": "code",
   "execution_count": 2,
   "metadata": {},
   "outputs": [],
   "source": [
    "import torch\n",
    "from torch import nn\n",
    "from torch.utils.data import Dataset, DataLoader\n",
    "import torch.nn.functional as F\n",
    "from glob import glob\n",
    "\n",
    "import pandas as pd\n",
    "import numpy as np\n",
    "import pytorch_lightning as pl\n",
    "\n",
    "from tqdm import tqdm\n",
    "%matplotlib inline"
   ]
  },
  {
   "cell_type": "code",
   "execution_count": 3,
   "metadata": {},
   "outputs": [],
   "source": [
    "patient_ids = [\n",
    "    'MSEL_00095',\n",
    "    'MSEL_00172',\n",
    "    'MSEL_00182',\n",
    "    'MSEL_00501',\n",
    "    'MSEL_00502',\n",
    "    'MSEL_00764',\n",
    "    'MSEL_01097',\n",
    "    'MSEL_01110-ICU',\n",
    "    'MSEL_01462',\n",
    "    'MSEL_01550',\n",
    "    'MSEL_01575',\n",
    "    'MSEL_01676',\n",
    "    'MSEL_01709',\n",
    "    'MSEL_01763',\n",
    "    'MSEL_01808',\n",
    "    'MSEL_01828',\n",
    "    'MSEL_01832',\n",
    "    # 'MSEL_01836',\n",
    "    'MSEL_01838',\n",
    "    'MSEL_01842',\n",
    "    'MSEL_01844',\n",
    "    'MSEL_01849',\n",
    "    'MSEL_01853',\n",
    "    'MSEL_01870']\n"
   ]
  },
  {
   "cell_type": "code",
   "execution_count": 6,
   "metadata": {},
   "outputs": [
    {
     "name": "stderr",
     "output_type": "stream",
     "text": [
      "100%|██████████| 23/23 [08:31<00:00, 22.25s/it]\n"
     ]
    }
   ],
   "source": [
    "interictal_data = {}\n",
    "preictal_data = {}\n",
    "for patient_id in tqdm(patient_ids):\n",
    "    patient_interictal_files = glob(f\"data\\segments\\{patient_id}\\interictal\\{patient_id}_interictal_4Hz_segment_*.parquet\")\n",
    "    patient_preictal_files = glob(f\"data\\segments\\{patient_id}\\preictal\\{patient_id}_preictal_4Hz_segment_*.parquet\")\n",
    "\n",
    "    patient_interictal_segments = []\n",
    "    for file in patient_interictal_files:\n",
    "        next_segment = pd.read_parquet(file).values\n",
    "        if next_segment.size==720:\n",
    "            patient_interictal_segments.append(next_segment)\n",
    "    interictal_data[patient_id] = torch.Tensor(patient_interictal_segments)\n",
    "\n",
    "    patient_preictal_segments = []\n",
    "    for file in patient_preictal_files:\n",
    "        next_segment = pd.read_parquet(file).values\n",
    "        if next_segment.size==720:\n",
    "            patient_preictal_segments.append(next_segment)\n",
    "    preictal_data[patient_id] = torch.Tensor(patient_preictal_segments)\n",
    "\n",
    "torch.save(interictal_data, \"data/interictal.pt\")\n",
    "torch.save(preictal_data, \"data/preictal.pt\")"
   ]
  },
  {
   "cell_type": "code",
   "execution_count": 6,
   "metadata": {},
   "outputs": [],
   "source": [
    "interictal_paths = glob(\"data\\segments\\*\\interictal\\*_interictal_4Hz_segment_*.parquet\")\n",
    "preictal_paths = glob(\"data\\segments\\*\\preictal\\*_preictal_4Hz_segment_*.parquet\")"
   ]
  },
  {
   "cell_type": "code",
   "execution_count": 38,
   "metadata": {},
   "outputs": [
    {
     "name": "stderr",
     "output_type": "stream",
     "text": [
      "100%|██████████| 7349/7349 [00:15<00:00, 480.04it/s]\n"
     ]
    }
   ],
   "source": [
    "preictal_segments = []\n",
    "for path in tqdm(preictal_paths):\n",
    "    next_segment = pd.read_parquet(path).values\n",
    "    if next_segment.size==720:\n",
    "        preictal_segments.append(next_segment)\n",
    "    "
   ]
  },
  {
   "cell_type": "code",
   "execution_count": 53,
   "metadata": {},
   "outputs": [],
   "source": [
    "preictal = torch.Tensor(patient_interictal_segments)"
   ]
  },
  {
   "cell_type": "code",
   "execution_count": 60,
   "metadata": {},
   "outputs": [],
   "source": [
    "torch.save(preictal_data, \"data/preictal.pt\")"
   ]
  },
  {
   "cell_type": "code",
   "execution_count": 61,
   "metadata": {},
   "outputs": [],
   "source": [
    "x = torch.load(\"data/preictal.pt\")"
   ]
  },
  {
   "cell_type": "code",
   "execution_count": 63,
   "metadata": {},
   "outputs": [
    {
     "data": {
      "text/plain": [
       "tensor([[[0.3769, 0.4063, 0.2925, 0.4406, 0.0039, 0.6956],\n",
       "         [0.3854, 0.4038, 0.2904, 0.4350, 0.0039, 0.6955],\n",
       "         [0.3929, 0.3710, 0.3147, 0.4352, 0.0039, 0.6961],\n",
       "         ...,\n",
       "         [0.3278, 0.4030, 0.6549, 0.4248, 0.0040, 0.6956],\n",
       "         [0.3280, 0.4027, 0.6533, 0.4342, 0.0040, 0.6955],\n",
       "         [0.3199, 0.4001, 0.6443, 0.4437, 0.0040, 0.6956]],\n",
       "\n",
       "        [[0.3181, 0.3989, 0.6438, 0.4637, 0.0040, 0.6956],\n",
       "         [0.3208, 0.4030, 0.6459, 0.4481, 0.0040, 0.6955],\n",
       "         [0.3199, 0.4022, 0.6448, 0.4385, 0.0040, 0.6966],\n",
       "         ...,\n",
       "         [0.2874, 0.4140, 0.6055, 0.4442, 0.0040, 0.6978],\n",
       "         [0.2875, 0.4139, 0.6055, 0.4455, 0.0040, 0.6983],\n",
       "         [0.2874, 0.4139, 0.6054, 0.4417, 0.0040, 0.6991]],\n",
       "\n",
       "        [[0.2576, 0.4139, 0.5135, 0.4417, 0.0041, 0.7104],\n",
       "         [0.2580, 0.4135, 0.5137, 0.4419, 0.0041, 0.7104],\n",
       "         [0.2571, 0.4136, 0.5162, 0.4403, 0.0041, 0.7104],\n",
       "         ...,\n",
       "         [0.2582, 0.4134, 0.5149, 0.4397, 0.0041, 0.7115],\n",
       "         [0.2576, 0.4136, 0.5149, 0.4428, 0.0041, 0.7115],\n",
       "         [0.2579, 0.4134, 0.5143, 0.4413, 0.0041, 0.7115]],\n",
       "\n",
       "        ...,\n",
       "\n",
       "        [[0.2488, 0.4715, 0.4484, 0.4349, 0.0038, 0.7121],\n",
       "         [0.2484, 0.4730, 0.4480, 0.4097, 0.0038, 0.7121],\n",
       "         [0.2482, 0.4730, 0.4477, 0.4203, 0.0038, 0.7121],\n",
       "         ...,\n",
       "         [0.3947, 0.4257, 0.7082, 0.4474, 0.0040, 0.7080],\n",
       "         [0.3976, 0.4248, 0.7087, 0.4361, 0.0040, 0.7082],\n",
       "         [0.4010, 0.4243, 0.7095, 0.4454, 0.0040, 0.7090]],\n",
       "\n",
       "        [[0.4002, 0.4253, 0.7089, 0.4348, 0.0040, 0.7093],\n",
       "         [0.4026, 0.4237, 0.7108, 0.4502, 0.0040, 0.7093],\n",
       "         [0.4024, 0.4235, 0.7097, 0.4345, 0.0039, 0.7091],\n",
       "         ...,\n",
       "         [0.4224, 0.4376, 0.2619, 0.4431, 0.0040, 0.6990],\n",
       "         [0.4299, 0.4156, 0.2659, 0.4454, 0.0040, 0.6990],\n",
       "         [0.4112, 0.4166, 0.2644, 0.4496, 0.0040, 0.6990]],\n",
       "\n",
       "        [[0.4121, 0.4582, 0.2619, 0.4324, 0.0039, 0.6990],\n",
       "         [0.4139, 0.4345, 0.2692, 0.4440, 0.0039, 0.6990],\n",
       "         [0.4234, 0.4252, 0.2716, 0.4536, 0.0039, 0.6991],\n",
       "         ...,\n",
       "         [0.3796, 0.4040, 0.6931, 0.4440, 0.0041, 0.6928],\n",
       "         [0.3794, 0.4042, 0.6938, 0.4398, 0.0041, 0.6926],\n",
       "         [0.3794, 0.4050, 0.6935, 0.4391, 0.0041, 0.6923]]])"
      ]
     },
     "execution_count": 63,
     "metadata": {},
     "output_type": "execute_result"
    }
   ],
   "source": [
    "x[\"MSEL_00172\"]"
   ]
  },
  {
   "cell_type": "code",
   "execution_count": null,
   "metadata": {},
   "outputs": [],
   "source": []
  }
 ],
 "metadata": {
  "interpreter": {
   "hash": "38c3778fb65eae4f20aedf3082c4df54eca5849188701ff3fc6acd2b6ef40ace"
  },
  "kernelspec": {
   "display_name": "Python 3.9.5 64-bit ('torch': conda)",
   "name": "python3"
  },
  "language_info": {
   "codemirror_mode": {
    "name": "ipython",
    "version": 3
   },
   "file_extension": ".py",
   "mimetype": "text/x-python",
   "name": "python",
   "nbconvert_exporter": "python",
   "pygments_lexer": "ipython3",
   "version": "3.9.5"
  },
  "orig_nbformat": 4
 },
 "nbformat": 4,
 "nbformat_minor": 2
}
