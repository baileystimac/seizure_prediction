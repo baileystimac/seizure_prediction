{
 "cells": [
  {
   "cell_type": "code",
   "execution_count": 3,
   "metadata": {},
   "outputs": [],
   "source": [
    "import pandas as pd\n",
    "import numpy as np\n",
    "from scipy.signal import welch"
   ]
  },
  {
   "cell_type": "code",
   "execution_count": 4,
   "metadata": {},
   "outputs": [],
   "source": [
    "segment_file = \"data\\segments\\MSEL_00172\\interictal\\MSEL_00172_interictal_4Hz_segment_0.parquet\""
   ]
  },
  {
   "cell_type": "code",
   "execution_count": 7,
   "metadata": {},
   "outputs": [],
   "source": [
    "def get_features(segment_file):\n",
    "    segment = pd.read_parquet(segment_file)\n",
    "    frequency, power = welch(segment[\"BVP\"], fs=4.0, nperseg=120/8)\n",
    "    max_index = power.argmax()\n",
    "    frequency_max = frequency[max_index]\n",
    "    power_max = power_max = power[max_index]\n",
    "\n",
    "    descriptive_features = segment.describe(percentiles=[0.1, 0.5, 0.9]).values[1:,:].flatten()\n",
    "    correlation_features = segment.corr().values[np.triu_indices(6, 1)]\n",
    "\n",
    "    output_features = np.concatenate([power, [frequency_max, power_max], descriptive_features, correlation_features])\n",
    "    return output_features"
   ]
  },
  {
   "cell_type": "code",
   "execution_count": 10,
   "metadata": {},
   "outputs": [
    {
     "data": {
      "text/plain": [
       "(67,)"
      ]
     },
     "execution_count": 10,
     "metadata": {},
     "output_type": "execute_result"
    }
   ],
   "source": [
    "get_features(segment_file).shape"
   ]
  },
  {
   "cell_type": "code",
   "execution_count": 1,
   "metadata": {},
   "outputs": [
    {
     "ename": "SyntaxError",
     "evalue": "unmatched ')' (<ipython-input-1-a35077a93b18>, line 1)",
     "output_type": "error",
     "traceback": [
      "\u001b[1;36m  File \u001b[1;32m\"<ipython-input-1-a35077a93b18>\"\u001b[1;36m, line \u001b[1;32m1\u001b[0m\n\u001b[1;33m    )\u001b[0m\n\u001b[1;37m    ^\u001b[0m\n\u001b[1;31mSyntaxError\u001b[0m\u001b[1;31m:\u001b[0m unmatched ')'\n"
     ]
    }
   ],
   "source": [
    "C:\\Users\\Bailey\\OneDrive\\Documents\\Thesis\\data\\data"
   ]
  },
  {
   "cell_type": "code",
   "execution_count": 39,
   "metadata": {},
   "outputs": [
    {
     "data": {
      "text/plain": [
       "array([0.28186655, 0.2887174 , 0.5414189 , 0.5404683 , 0.00786234,\n",
       "       0.76977146, 0.02744319, 0.02913484, 0.05498785, 0.06388031,\n",
       "       0.00159541, 0.14642905], dtype=float32)"
      ]
     },
     "execution_count": 39,
     "metadata": {},
     "output_type": "execute_result"
    }
   ],
   "source": [
    "np.concatenate([segment.mean(), segment.std(), segment.min(), segment.max(), segment.sum(), segment.ku])"
   ]
  },
  {
   "cell_type": "code",
   "execution_count": 69,
   "metadata": {},
   "outputs": [
    {
     "data": {
      "text/plain": [
       "array([0.36609381, 0.43394092, 0.55203342, 0.53342992, 0.06814162,\n",
       "       0.75773728, 0.13482456, 0.14241925, 0.06604028, 0.05988007,\n",
       "       0.00716988, 0.1088369 , 0.17979756, 0.21075901, 0.37682411,\n",
       "       0.30897355, 0.04631144, 0.43824676, 0.24153561, 0.25927742,\n",
       "       0.47202562, 0.46934679, 0.05958481, 0.63126259, 0.29369868,\n",
       "       0.48958205, 0.55260205, 0.53470811, 0.06834219, 0.75911388,\n",
       "       0.56224283, 0.6026369 , 0.63183389, 0.61249458, 0.07605499,\n",
       "       0.90166373, 0.67983538, 0.68407828, 0.83332008, 0.65462983,\n",
       "       0.09980299, 0.9834137 ])"
      ]
     },
     "execution_count": 69,
     "metadata": {},
     "output_type": "execute_result"
    }
   ],
   "source": []
  },
  {
   "cell_type": "code",
   "execution_count": 46,
   "metadata": {},
   "outputs": [
    {
     "data": {
      "text/html": [
       "<div>\n",
       "<style scoped>\n",
       "    .dataframe tbody tr th:only-of-type {\n",
       "        vertical-align: middle;\n",
       "    }\n",
       "\n",
       "    .dataframe tbody tr th {\n",
       "        vertical-align: top;\n",
       "    }\n",
       "\n",
       "    .dataframe thead th {\n",
       "        text-align: right;\n",
       "    }\n",
       "</style>\n",
       "<table border=\"1\" class=\"dataframe\">\n",
       "  <thead>\n",
       "    <tr style=\"text-align: right;\">\n",
       "      <th></th>\n",
       "      <th>ACC X</th>\n",
       "      <th>ACC Y</th>\n",
       "      <th>ACC Z</th>\n",
       "      <th>BVP</th>\n",
       "      <th>EDA</th>\n",
       "      <th>TEMP</th>\n",
       "    </tr>\n",
       "  </thead>\n",
       "  <tbody>\n",
       "    <tr>\n",
       "      <th>ACC X</th>\n",
       "      <td>1.000000</td>\n",
       "      <td>0.317333</td>\n",
       "      <td>-0.138211</td>\n",
       "      <td>-0.046019</td>\n",
       "      <td>-0.147976</td>\n",
       "      <td>0.010685</td>\n",
       "    </tr>\n",
       "    <tr>\n",
       "      <th>ACC Y</th>\n",
       "      <td>0.317333</td>\n",
       "      <td>1.000000</td>\n",
       "      <td>0.008988</td>\n",
       "      <td>-0.073662</td>\n",
       "      <td>-0.077823</td>\n",
       "      <td>0.215372</td>\n",
       "    </tr>\n",
       "    <tr>\n",
       "      <th>ACC Z</th>\n",
       "      <td>-0.138211</td>\n",
       "      <td>0.008988</td>\n",
       "      <td>1.000000</td>\n",
       "      <td>0.079162</td>\n",
       "      <td>-0.097322</td>\n",
       "      <td>-0.146957</td>\n",
       "    </tr>\n",
       "    <tr>\n",
       "      <th>BVP</th>\n",
       "      <td>-0.046019</td>\n",
       "      <td>-0.073662</td>\n",
       "      <td>0.079162</td>\n",
       "      <td>1.000000</td>\n",
       "      <td>0.053213</td>\n",
       "      <td>-0.090038</td>\n",
       "    </tr>\n",
       "    <tr>\n",
       "      <th>EDA</th>\n",
       "      <td>-0.147976</td>\n",
       "      <td>-0.077823</td>\n",
       "      <td>-0.097322</td>\n",
       "      <td>0.053213</td>\n",
       "      <td>1.000000</td>\n",
       "      <td>-0.166621</td>\n",
       "    </tr>\n",
       "    <tr>\n",
       "      <th>TEMP</th>\n",
       "      <td>0.010685</td>\n",
       "      <td>0.215372</td>\n",
       "      <td>-0.146957</td>\n",
       "      <td>-0.090038</td>\n",
       "      <td>-0.166621</td>\n",
       "      <td>1.000000</td>\n",
       "    </tr>\n",
       "  </tbody>\n",
       "</table>\n",
       "</div>"
      ],
      "text/plain": [
       "          ACC X     ACC Y     ACC Z       BVP       EDA      TEMP\n",
       "ACC X  1.000000  0.317333 -0.138211 -0.046019 -0.147976  0.010685\n",
       "ACC Y  0.317333  1.000000  0.008988 -0.073662 -0.077823  0.215372\n",
       "ACC Z -0.138211  0.008988  1.000000  0.079162 -0.097322 -0.146957\n",
       "BVP   -0.046019 -0.073662  0.079162  1.000000  0.053213 -0.090038\n",
       "EDA   -0.147976 -0.077823 -0.097322  0.053213  1.000000 -0.166621\n",
       "TEMP   0.010685  0.215372 -0.146957 -0.090038 -0.166621  1.000000"
      ]
     },
     "execution_count": 46,
     "metadata": {},
     "output_type": "execute_result"
    }
   ],
   "source": [
    "segment.corr()"
   ]
  },
  {
   "cell_type": "code",
   "execution_count": 70,
   "metadata": {},
   "outputs": [
    {
     "data": {
      "text/plain": [
       "array([-0.84196728, -0.23812391,  0.11324553,  0.02302193,  0.13090913,\n",
       "        0.25861521, -0.09590817,  0.0150098 , -0.0364157 , -0.11378931,\n",
       "        0.22369536,  0.10059292, -0.12683204, -0.02151571,  0.19448408])"
      ]
     },
     "execution_count": 70,
     "metadata": {},
     "output_type": "execute_result"
    }
   ],
   "source": []
  },
  {
   "cell_type": "code",
   "execution_count": null,
   "metadata": {},
   "outputs": [],
   "source": []
  }
 ],
 "metadata": {
  "interpreter": {
   "hash": "ab9f64ede123343d9ad5b28ae676d0ce0e26d6747c3528440fbd05d255310970"
  },
  "kernelspec": {
   "display_name": "Python 3.8.5 64-bit ('base': conda)",
   "name": "python3"
  },
  "language_info": {
   "codemirror_mode": {
    "name": "ipython",
    "version": 3
   },
   "file_extension": ".py",
   "mimetype": "text/x-python",
   "name": "python",
   "nbconvert_exporter": "python",
   "pygments_lexer": "ipython3",
   "version": "3.8.5"
  },
  "orig_nbformat": 4
 },
 "nbformat": 4,
 "nbformat_minor": 2
}
